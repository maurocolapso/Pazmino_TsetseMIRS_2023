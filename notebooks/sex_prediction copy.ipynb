{
 "cells": [
  {
   "attachments": {},
   "cell_type": "markdown",
   "metadata": {},
   "source": [
    "# Sex prediction"
   ]
  },
  {
   "cell_type": "code",
   "execution_count": 1,
   "metadata": {},
   "outputs": [],
   "source": [
    "%load_ext autoreload\n",
    "%autoreload 2"
   ]
  },
  {
   "cell_type": "code",
   "execution_count": 2,
   "metadata": {},
   "outputs": [],
   "source": [
    "\n",
    "import sys\n",
    "\n",
    "import pandas as pd\n",
    "from sklearn.decomposition import PCA\n",
    "from sklearn.preprocessing import StandardScaler\n",
    "import seaborn as sn\n",
    "import matplotlib.pyplot as plt\n",
    "import numpy as np\n",
    "\n",
    "\n",
    "from sklearn.model_selection import train_test_split\n",
    "from sklearn.metrics import accuracy_score\n",
    "from sklearn.metrics import ConfusionMatrixDisplay\n",
    "from sklearn.metrics import classification_report\n",
    "from sklearn.metrics import roc_curve\n",
    "from sklearn.metrics import RocCurveDisplay\n",
    "from sklearn.preprocessing import LabelBinarizer\n",
    "\n",
    "sys.path.append('../src')\n",
    "from utilities import baseline_accuracy\n",
    "from utilities import dataplotmelt\n",
    "from utilities import test_model\n",
    "from utilities import nested_crossvalidation\n",
    "from utilities import nested_ROC_plot\n",
    "from utilities import montecarlo_crossvalidation\n",
    "from utilities import gridsearch_bias\n",
    "from utilities import model_optimization\n"
   ]
  },
  {
   "cell_type": "code",
   "execution_count": 3,
   "metadata": {},
   "outputs": [],
   "source": [
    "colors = sn.color_palette(\"Set2\") "
   ]
  },
  {
   "cell_type": "code",
   "execution_count": 4,
   "metadata": {},
   "outputs": [],
   "source": [
    "tsetse_data = pd.read_csv(\"../data/raw/TseTse_finaldatasetclean.csv\")"
   ]
  },
  {
   "cell_type": "code",
   "execution_count": 5,
   "metadata": {},
   "outputs": [],
   "source": [
    "tsetse_data.rename(columns={\"Cat1\":\"Plate\", \"Cat3\":\"Sex\", \"Cat4\":\"Age\", \"Cat5\":\"Tissue\"}, inplace=True)\n",
    "tsetse_data['Tissue'] = tsetse_data['Tissue'].str.replace(\"T\", 'Thorax')\n",
    "tsetse_data['Tissue'] = tsetse_data['Tissue'].str.replace(\"H\", 'Head')\n",
    "tsetse_data['Tissue'] = tsetse_data['Tissue'].str.replace(\"A\", 'Abdomen')"
   ]
  },
  {
   "cell_type": "code",
   "execution_count": 6,
   "metadata": {},
   "outputs": [],
   "source": [
    "tsetse_data_copy = tsetse_data.copy()"
   ]
  },
  {
   "cell_type": "code",
   "execution_count": 7,
   "metadata": {},
   "outputs": [
    {
     "data": {
      "text/html": [
       "<div>\n",
       "<style scoped>\n",
       "    .dataframe tbody tr th:only-of-type {\n",
       "        vertical-align: middle;\n",
       "    }\n",
       "\n",
       "    .dataframe tbody tr th {\n",
       "        vertical-align: top;\n",
       "    }\n",
       "\n",
       "    .dataframe thead th {\n",
       "        text-align: right;\n",
       "    }\n",
       "</style>\n",
       "<table border=\"1\" class=\"dataframe\">\n",
       "  <thead>\n",
       "    <tr style=\"text-align: right;\">\n",
       "      <th></th>\n",
       "      <th></th>\n",
       "      <th></th>\n",
       "      <th>ID</th>\n",
       "    </tr>\n",
       "    <tr>\n",
       "      <th>Sex</th>\n",
       "      <th>Age</th>\n",
       "      <th>Tissue</th>\n",
       "      <th></th>\n",
       "    </tr>\n",
       "  </thead>\n",
       "  <tbody>\n",
       "    <tr>\n",
       "      <th rowspan=\"9\" valign=\"top\">f</th>\n",
       "      <th rowspan=\"3\" valign=\"top\">3d</th>\n",
       "      <th>Abdomen</th>\n",
       "      <td>48</td>\n",
       "    </tr>\n",
       "    <tr>\n",
       "      <th>Head</th>\n",
       "      <td>133</td>\n",
       "    </tr>\n",
       "    <tr>\n",
       "      <th>Thorax</th>\n",
       "      <td>136</td>\n",
       "    </tr>\n",
       "    <tr>\n",
       "      <th rowspan=\"3\" valign=\"top\">5w</th>\n",
       "      <th>Abdomen</th>\n",
       "      <td>16</td>\n",
       "    </tr>\n",
       "    <tr>\n",
       "      <th>Head</th>\n",
       "      <td>92</td>\n",
       "    </tr>\n",
       "    <tr>\n",
       "      <th>Thorax</th>\n",
       "      <td>96</td>\n",
       "    </tr>\n",
       "    <tr>\n",
       "      <th rowspan=\"3\" valign=\"top\">7w</th>\n",
       "      <th>Abdomen</th>\n",
       "      <td>38</td>\n",
       "    </tr>\n",
       "    <tr>\n",
       "      <th>Head</th>\n",
       "      <td>120</td>\n",
       "    </tr>\n",
       "    <tr>\n",
       "      <th>Thorax</th>\n",
       "      <td>122</td>\n",
       "    </tr>\n",
       "    <tr>\n",
       "      <th rowspan=\"5\" valign=\"top\">m</th>\n",
       "      <th rowspan=\"2\" valign=\"top\">5w</th>\n",
       "      <th>Head</th>\n",
       "      <td>94</td>\n",
       "    </tr>\n",
       "    <tr>\n",
       "      <th>Thorax</th>\n",
       "      <td>93</td>\n",
       "    </tr>\n",
       "    <tr>\n",
       "      <th rowspan=\"3\" valign=\"top\">7w</th>\n",
       "      <th>Abdomen</th>\n",
       "      <td>15</td>\n",
       "    </tr>\n",
       "    <tr>\n",
       "      <th>Head</th>\n",
       "      <td>93</td>\n",
       "    </tr>\n",
       "    <tr>\n",
       "      <th>Thorax</th>\n",
       "      <td>92</td>\n",
       "    </tr>\n",
       "  </tbody>\n",
       "</table>\n",
       "</div>"
      ],
      "text/plain": [
       "                  ID\n",
       "Sex Age Tissue      \n",
       "f   3d  Abdomen   48\n",
       "        Head     133\n",
       "        Thorax   136\n",
       "    5w  Abdomen   16\n",
       "        Head      92\n",
       "        Thorax    96\n",
       "    7w  Abdomen   38\n",
       "        Head     120\n",
       "        Thorax   122\n",
       "m   5w  Head      94\n",
       "        Thorax    93\n",
       "    7w  Abdomen   15\n",
       "        Head      93\n",
       "        Thorax    92"
      ]
     },
     "execution_count": 7,
     "metadata": {},
     "output_type": "execute_result"
    }
   ],
   "source": [
    "df_ic = pd.DataFrame(tsetse_data_copy.groupby(['Sex','Age','Tissue'])['ID'].count())\n",
    "df_ic"
   ]
  },
  {
   "cell_type": "code",
   "execution_count": 70,
   "metadata": {},
   "outputs": [],
   "source": [
    "df_ic.to_excel(\"../results/tables/wholespectra_results/samples_summary.xlsx\")"
   ]
  },
  {
   "cell_type": "code",
   "execution_count": 8,
   "metadata": {},
   "outputs": [],
   "source": [
    "tsetse_data_sameages = tsetse_data[(tsetse_data[\"Age\"]!= '3d')]\n",
    "tsetse_data_sameages_copy = tsetse_data_sameages.copy()"
   ]
  },
  {
   "attachments": {},
   "cell_type": "markdown",
   "metadata": {},
   "source": [
    "## Sex prediction"
   ]
  },
  {
   "cell_type": "code",
   "execution_count": 9,
   "metadata": {},
   "outputs": [],
   "source": [
    "tsetse_thorax = tsetse_data_sameages_copy.loc[tsetse_data_sameages_copy['Tissue'] == 'Thorax']\n",
    "tsetse_head = tsetse_data_sameages_copy.loc[tsetse_data_sameages_copy['Tissue'] == 'Head']"
   ]
  },
  {
   "cell_type": "code",
   "execution_count": 10,
   "metadata": {},
   "outputs": [
    {
     "data": {
      "text/plain": [
       "Sex\n",
       "f    212\n",
       "m    187\n",
       "Name: ID, dtype: int64"
      ]
     },
     "execution_count": 10,
     "metadata": {},
     "output_type": "execute_result"
    }
   ],
   "source": [
    "tsetse_head.groupby(\"Sex\")[\"ID\"].count()"
   ]
  },
  {
   "cell_type": "code",
   "execution_count": 11,
   "metadata": {},
   "outputs": [],
   "source": [
    "X_thorax = tsetse_thorax.loc[:,\"4000\":\"402\"]\n",
    "y_thorax = tsetse_thorax.loc[:,\"Sex\"]\n",
    "\n",
    "X_head = tsetse_head.loc[:,\"4000\":\"402\"]\n",
    "y_head = tsetse_head.loc[:,\"Sex\"]"
   ]
  },
  {
   "cell_type": "code",
   "execution_count": 12,
   "metadata": {},
   "outputs": [],
   "source": [
    "waveNumslist = X_thorax.columns.values.tolist()\n",
    "wavenumbers = [int(x) for x in waveNumslist]"
   ]
  },
  {
   "cell_type": "code",
   "execution_count": 21,
   "metadata": {},
   "outputs": [
    {
     "data": {
      "text/plain": [
       "Sex\n",
       "f    218\n",
       "m    185\n",
       "Name: count, dtype: int64"
      ]
     },
     "execution_count": 21,
     "metadata": {},
     "output_type": "execute_result"
    }
   ],
   "source": [
    "y_thorax.value_counts()"
   ]
  },
  {
   "attachments": {},
   "cell_type": "markdown",
   "metadata": {},
   "source": [
    "## Bias test"
   ]
  },
  {
   "cell_type": "code",
   "execution_count": 22,
   "metadata": {},
   "outputs": [],
   "source": [
    "X_thorax_part1 = X_thorax.loc[:,\"4000\":\"402\"]\n",
    "X_thorax_part2 = X_thorax.loc[:,\"1800\":\"600\"]\n",
    "X_thorax_part3 = X_thorax.loc[:,\"3500\":\"2750\"]\n",
    "X_thorax_part4 = X_thorax.loc[:,\"2750\":\"1800\"]\n",
    "\n",
    "X_thorax_desbiased = pd.concat([X_thorax_part3,X_thorax_part2],axis=1)"
   ]
  },
  {
   "cell_type": "code",
   "execution_count": 23,
   "metadata": {},
   "outputs": [],
   "source": [
    "# thorax\n",
    "bias_test_part1 = gridsearch_bias(X_thorax_part1,y_thorax)\n",
    "bias_test_part2 = gridsearch_bias(X_thorax_part2,y_thorax)\n",
    "bias_test_part3 = gridsearch_bias(X_thorax_part3,y_thorax)\n",
    "bias_test_part4 = gridsearch_bias(X_thorax_part4,y_thorax)\n",
    "bias_test_part5 = gridsearch_bias(X_thorax_desbiased,y_thorax)"
   ]
  },
  {
   "cell_type": "code",
   "execution_count": 56,
   "metadata": {},
   "outputs": [],
   "source": [
    "result = pd.concat([bias_test_part1, bias_test_part2['mean_test_score'],bias_test_part3['mean_test_score'],bias_test_part4['mean_test_score'],bias_test_part5['mean_test_score']], axis=1)\n",
    "\n",
    "result['Tissue'] = 'Thorax'\n"
   ]
  },
  {
   "cell_type": "code",
   "execution_count": 26,
   "metadata": {},
   "outputs": [],
   "source": [
    "X_head_part1 = X_head.loc[:,\"4000\":\"402\"]\n",
    "X_head_part2 = X_head.loc[:,\"1800\":\"600\"]\n",
    "X_head_part3 = X_head.loc[:,\"3500\":\"2750\"]\n",
    "X_head_part4 = X_head.loc[:,\"2750\":\"1800\"]\n",
    "\n",
    "X_head_desbiased = pd.concat([X_head_part3,X_head_part2],axis=1)\n",
    "\n",
    "y_head_sameage = y_head"
   ]
  },
  {
   "cell_type": "code",
   "execution_count": 27,
   "metadata": {},
   "outputs": [],
   "source": [
    "bias_test_head_part1 = gridsearch_bias(X_head_part1, y_head_sameage)\n",
    "bias_test_head_part2 = gridsearch_bias(X_head_part2, y_head_sameage)\n",
    "bias_test_head_part3 = gridsearch_bias(X_head_part3, y_head_sameage)\n",
    "bias_test_head_part4 = gridsearch_bias(X_head_part4, y_head_sameage)\n",
    "bias_test_head_part5 = gridsearch_bias(X_head_desbiased, y_head_sameage)"
   ]
  },
  {
   "cell_type": "code",
   "execution_count": 58,
   "metadata": {},
   "outputs": [],
   "source": [
    "result2 = pd.concat([bias_test_head_part1, \n",
    "    bias_test_head_part2['mean_test_score'],\n",
    "    bias_test_head_part3['mean_test_score'],\n",
    "    bias_test_head_part4['mean_test_score'],\n",
    "    bias_test_head_part5['mean_test_score']], axis=1)\n",
    "result2['Tissue'] = 'Head'\n"
   ]
  },
  {
   "cell_type": "code",
   "execution_count": 71,
   "metadata": {},
   "outputs": [],
   "source": [
    "bias_sex = pd.concat([result2, result])\n",
    "bias_sex.set_index(\"Tissue\", inplace=True)\n",
    "\n",
    "bias_sex.columns = [\"Model\", \"kernel\",\"D1\",\"D2\",\"D3\",\"D4\",\"D5\"]\n",
    "\n",
    "bias_sex\n",
    "\n",
    "\n",
    "result.to_excel(\"../results/tables/wholespectra_results/biased_sex_pred.xlsx\")"
   ]
  },
  {
   "cell_type": "code",
   "execution_count": 13,
   "metadata": {},
   "outputs": [],
   "source": [
    "# permutation test\n",
    "\n",
    "from sklearn.svm import SVC\n",
    "from sklearn.model_selection import StratifiedKFold\n",
    "from sklearn.model_selection import permutation_test_score\n",
    "\n",
    "clf = SVC(kernel=\"linear\", random_state=7)\n",
    "cv = StratifiedKFold(2, shuffle=True, random_state=0)\n",
    "\n",
    "score_iris, perm_scores_iris, pvalue_iris = permutation_test_score(\n",
    "    clf, X_thorax, y_thorax, scoring=\"accuracy\", cv=cv, n_permutations=1000)"
   ]
  },
  {
   "cell_type": "code",
   "execution_count": 29,
   "metadata": {},
   "outputs": [
    {
     "data": {
      "image/png": "[encoded data removed]",
      "text/plain": [
       "<Figure size 300x300 with 1 Axes>"
      ]
     },
     "metadata": {},
     "output_type": "display_data"
    }
   ],
   "source": [
    "sn.set_context('notebook', font_scale=1.1)\n",
    "\n",
    "fig, ax = plt.subplots(figsize=(3,3))\n",
    "ax.hist(perm_scores_iris, density=True, color='grey')\n",
    "ax.axvline(score_iris, ls=\"--\", color=\"k\")\n",
    "score_label = f\"p-value: {pvalue_iris:.3f}\"\n",
    "ax.text(0.1, 35, score_label, fontsize=9)\n",
    "ax.set_xlabel(\"Accuracy score\")\n",
    "ax.set_ylabel(\"Probability\")\n",
    "ax.set_xlim(0,1)\n",
    "\n",
    "plt.savefig(\"../results/plots/permutationtest_sex.png\", dpi=300, bbox_inches='tight')\n"
   ]
  },
  {
   "cell_type": "code",
   "execution_count": 81,
   "metadata": {},
   "outputs": [],
   "source": [
    "X_thorax.to_csv(\"../data/processed/X_thorax.csv\", index=False)\n",
    "y_thorax.to_csv(\"../data/processed/y_thorax_sex.csv\", index=False)"
   ]
  },
  {
   "attachments": {},
   "cell_type": "markdown",
   "metadata": {},
   "source": [
    "# Sex predictioin"
   ]
  },
  {
   "cell_type": "code",
   "execution_count": 31,
   "metadata": {},
   "outputs": [],
   "source": [
    "X_th_train, X_th_test, y_th_train, y_th_test = train_test_split(X_thorax, y_thorax, test_size=0.2, shuffle=True, random_state=123)\n",
    "\n",
    "X_hd_train, X_hd_test, y_hd_train, y_hd_test = train_test_split(X_head, y_head, test_size=0.2, shuffle=True, random_state=123)"
   ]
  },
  {
   "cell_type": "code",
   "execution_count": 32,
   "metadata": {},
   "outputs": [
    {
     "name": "stdout",
     "output_type": "stream",
     "text": [
      "(319, 1800)\n",
      "(80, 1800)\n",
      "(322, 1800)\n",
      "(81, 1800)\n"
     ]
    }
   ],
   "source": [
    "print(X_hd_train.shape)\n",
    "print(X_hd_test.shape)\n",
    "\n",
    "print(X_th_train.shape)\n",
    "print(X_th_test.shape)"
   ]
  },
  {
   "cell_type": "code",
   "execution_count": 78,
   "metadata": {},
   "outputs": [],
   "source": [
    "shape_data = {\"train_head\": y_hd_train.value_counts(),\n",
    "              \"train_thorax\": y_th_train.value_counts(),\n",
    "              \"test_head\": y_hd_test.value_counts(),\n",
    "              \"test_thorax\":y_th_test.value_counts()}"
   ]
  },
  {
   "cell_type": "code",
   "execution_count": 79,
   "metadata": {},
   "outputs": [
    {
     "data": {
      "text/html": [
       "<div>\n",
       "<style scoped>\n",
       "    .dataframe tbody tr th:only-of-type {\n",
       "        vertical-align: middle;\n",
       "    }\n",
       "\n",
       "    .dataframe tbody tr th {\n",
       "        vertical-align: top;\n",
       "    }\n",
       "\n",
       "    .dataframe thead th {\n",
       "        text-align: right;\n",
       "    }\n",
       "</style>\n",
       "<table border=\"1\" class=\"dataframe\">\n",
       "  <thead>\n",
       "    <tr style=\"text-align: right;\">\n",
       "      <th></th>\n",
       "      <th>train_head</th>\n",
       "      <th>train_thorax</th>\n",
       "      <th>test_head</th>\n",
       "      <th>test_thorax</th>\n",
       "    </tr>\n",
       "    <tr>\n",
       "      <th>Sex</th>\n",
       "      <th></th>\n",
       "      <th></th>\n",
       "      <th></th>\n",
       "      <th></th>\n",
       "    </tr>\n",
       "  </thead>\n",
       "  <tbody>\n",
       "    <tr>\n",
       "      <th>f</th>\n",
       "      <td>166</td>\n",
       "      <td>166</td>\n",
       "      <td>46</td>\n",
       "      <td>52</td>\n",
       "    </tr>\n",
       "    <tr>\n",
       "      <th>m</th>\n",
       "      <td>153</td>\n",
       "      <td>156</td>\n",
       "      <td>34</td>\n",
       "      <td>29</td>\n",
       "    </tr>\n",
       "  </tbody>\n",
       "</table>\n",
       "</div>"
      ],
      "text/plain": [
       "     train_head  train_thorax  test_head  test_thorax\n",
       "Sex                                                  \n",
       "f           166           166         46           52\n",
       "m           153           156         34           29"
      ]
     },
     "execution_count": 79,
     "metadata": {},
     "output_type": "execute_result"
    }
   ],
   "source": [
    "shape_data_df = pd.DataFrame(shape_data)\n",
    "\n",
    "shape_data_df"
   ]
  },
  {
   "cell_type": "code",
   "execution_count": 80,
   "metadata": {},
   "outputs": [],
   "source": [
    "shape_data_df.to_excel(\"../results/tables/wholespectra_results/train_test_shape_sex.xlsx\")"
   ]
  },
  {
   "cell_type": "code",
   "execution_count": 35,
   "metadata": {},
   "outputs": [
    {
     "name": "stdout",
     "output_type": "stream",
     "text": [
      "Fitting 10 folds for each of 4 candidates, totalling 40 fits\n"
     ]
    },
    {
     "name": "stdout",
     "output_type": "stream",
     "text": [
      "Fitting 10 folds for each of 4 candidates, totalling 40 fits\n"
     ]
    }
   ],
   "source": [
    "thorax_acc_baseline = baseline_accuracy(X_th_train, y_th_train)\n",
    "head_acc_baseline = baseline_accuracy(X_hd_train,y_hd_train)"
   ]
  },
  {
   "cell_type": "code",
   "execution_count": 36,
   "metadata": {},
   "outputs": [],
   "source": [
    "data_plot_thorax = dataplotmelt(thorax_acc_baseline)\n",
    "data_plot_head = dataplotmelt(head_acc_baseline)"
   ]
  },
  {
   "cell_type": "code",
   "execution_count": 37,
   "metadata": {},
   "outputs": [
    {
     "name": "stdout",
     "output_type": "stream",
     "text": [
      "  param_clf     value          \n",
      "                 mean       std\n",
      "0      CART  0.871875  0.045881\n",
      "1        LR  0.943750  0.023524\n",
      "2        RF  0.903125  0.039528\n",
      "3       SVC  0.909375  0.036681\n"
     ]
    }
   ],
   "source": [
    "output = data_plot_head.groupby(['param_clf'], as_index=False).agg({'value':['mean','std']})\n",
    "print(output)"
   ]
  },
  {
   "cell_type": "code",
   "execution_count": 38,
   "metadata": {},
   "outputs": [
    {
     "name": "stdout",
     "output_type": "stream",
     "text": [
      "  param_clf     value          \n",
      "                 mean       std\n",
      "0      CART  0.836923  0.041154\n",
      "1        LR  0.935385  0.027900\n",
      "2        RF  0.892308  0.034017\n",
      "3       SVC  0.869231  0.037859\n"
     ]
    }
   ],
   "source": [
    "output = data_plot_thorax.groupby(['param_clf'], as_index=False).agg({'value':['mean','std']})\n",
    "print(output)"
   ]
  },
  {
   "cell_type": "code",
   "execution_count": 39,
   "metadata": {},
   "outputs": [
    {
     "name": "stdout",
     "output_type": "stream",
     "text": [
      "Best model parameters{'model__C': 100, 'model__penalty': 'l2', 'model__solver': 'newton-cg'}\n",
      "Best model parameters{'model__C': 100, 'model__penalty': 'l2', 'model__solver': 'liblinear'}\n"
     ]
    }
   ],
   "source": [
    "# model optimization\n",
    "\n",
    "# Head\n",
    "best_model_head = model_optimization(X_hd_train,y_hd_train)\n",
    "# thorax\n",
    "best_mdoel_thorax = model_optimization(X_th_train, y_th_train)"
   ]
  },
  {
   "cell_type": "code",
   "execution_count": 40,
   "metadata": {},
   "outputs": [],
   "source": [
    "# test head\n",
    "\n",
    "y_head_pred, y_head_prob, pipe_head = test_model(X_hd_train, X_hd_test, y_hd_train, best_model_head)\n",
    "y_thorax_pred, y_thorax_prob, pipe_thorax = test_model(X_th_train, X_th_test, y_th_train, best_mdoel_thorax)"
   ]
  },
  {
   "cell_type": "code",
   "execution_count": 41,
   "metadata": {},
   "outputs": [
    {
     "name": "stdout",
     "output_type": "stream",
     "text": [
      "Accuracy on test set using the head: 0.9875\n",
      "Accuracy on test set suing the thorax: 0.9382716049382716\n"
     ]
    }
   ],
   "source": [
    "accuracy_head = accuracy_score(y_hd_test, y_head_pred)\n",
    "accuracy_thorax = accuracy_score(y_th_test, y_thorax_pred)\n",
    "print(f\"Accuracy on test set using the head: {accuracy_head}\")\n",
    "print(f\"Accuracy on test set suing the thorax: {accuracy_thorax}\")"
   ]
  },
  {
   "cell_type": "code",
   "execution_count": 81,
   "metadata": {},
   "outputs": [
    {
     "data": {
      "text/html": [
       "<div>\n",
       "<style scoped>\n",
       "    .dataframe tbody tr th:only-of-type {\n",
       "        vertical-align: middle;\n",
       "    }\n",
       "\n",
       "    .dataframe tbody tr th {\n",
       "        vertical-align: top;\n",
       "    }\n",
       "\n",
       "    .dataframe thead th {\n",
       "        text-align: right;\n",
       "    }\n",
       "</style>\n",
       "<table border=\"1\" class=\"dataframe\">\n",
       "  <thead>\n",
       "    <tr style=\"text-align: right;\">\n",
       "      <th></th>\n",
       "      <th>precision</th>\n",
       "      <th>recall</th>\n",
       "      <th>f1-score</th>\n",
       "      <th>support</th>\n",
       "      <th>Tissue</th>\n",
       "    </tr>\n",
       "  </thead>\n",
       "  <tbody>\n",
       "    <tr>\n",
       "      <th>f</th>\n",
       "      <td>0.978723</td>\n",
       "      <td>1.000000</td>\n",
       "      <td>0.989247</td>\n",
       "      <td>46.0000</td>\n",
       "      <td>Head</td>\n",
       "    </tr>\n",
       "    <tr>\n",
       "      <th>m</th>\n",
       "      <td>1.000000</td>\n",
       "      <td>0.970588</td>\n",
       "      <td>0.985075</td>\n",
       "      <td>34.0000</td>\n",
       "      <td>Head</td>\n",
       "    </tr>\n",
       "    <tr>\n",
       "      <th>accuracy</th>\n",
       "      <td>0.987500</td>\n",
       "      <td>0.987500</td>\n",
       "      <td>0.987500</td>\n",
       "      <td>0.9875</td>\n",
       "      <td>Head</td>\n",
       "    </tr>\n",
       "    <tr>\n",
       "      <th>macro avg</th>\n",
       "      <td>0.989362</td>\n",
       "      <td>0.985294</td>\n",
       "      <td>0.987161</td>\n",
       "      <td>80.0000</td>\n",
       "      <td>Head</td>\n",
       "    </tr>\n",
       "    <tr>\n",
       "      <th>weighted avg</th>\n",
       "      <td>0.987766</td>\n",
       "      <td>0.987500</td>\n",
       "      <td>0.987474</td>\n",
       "      <td>80.0000</td>\n",
       "      <td>Head</td>\n",
       "    </tr>\n",
       "  </tbody>\n",
       "</table>\n",
       "</div>"
      ],
      "text/plain": [
       "              precision    recall  f1-score  support Tissue\n",
       "f              0.978723  1.000000  0.989247  46.0000   Head\n",
       "m              1.000000  0.970588  0.985075  34.0000   Head\n",
       "accuracy       0.987500  0.987500  0.987500   0.9875   Head\n",
       "macro avg      0.989362  0.985294  0.987161  80.0000   Head\n",
       "weighted avg   0.987766  0.987500  0.987474  80.0000   Head"
      ]
     },
     "execution_count": 81,
     "metadata": {},
     "output_type": "execute_result"
    }
   ],
   "source": [
    "report_head = classification_report(y_hd_test, y_head_pred, output_dict=True)\n",
    "report_head = pd.DataFrame(report_head).transpose()\n",
    "report_head[\"Tissue\"] = \"Head\"\n",
    "report_head"
   ]
  },
  {
   "cell_type": "code",
   "execution_count": 82,
   "metadata": {},
   "outputs": [
    {
     "data": {
      "text/html": [
       "<div>\n",
       "<style scoped>\n",
       "    .dataframe tbody tr th:only-of-type {\n",
       "        vertical-align: middle;\n",
       "    }\n",
       "\n",
       "    .dataframe tbody tr th {\n",
       "        vertical-align: top;\n",
       "    }\n",
       "\n",
       "    .dataframe thead th {\n",
       "        text-align: right;\n",
       "    }\n",
       "</style>\n",
       "<table border=\"1\" class=\"dataframe\">\n",
       "  <thead>\n",
       "    <tr style=\"text-align: right;\">\n",
       "      <th></th>\n",
       "      <th>precision</th>\n",
       "      <th>recall</th>\n",
       "      <th>f1-score</th>\n",
       "      <th>support</th>\n",
       "      <th>Tissue</th>\n",
       "    </tr>\n",
       "  </thead>\n",
       "  <tbody>\n",
       "    <tr>\n",
       "      <th>f</th>\n",
       "      <td>0.979592</td>\n",
       "      <td>0.923077</td>\n",
       "      <td>0.950495</td>\n",
       "      <td>52.000000</td>\n",
       "      <td>Thorax</td>\n",
       "    </tr>\n",
       "    <tr>\n",
       "      <th>m</th>\n",
       "      <td>0.875000</td>\n",
       "      <td>0.965517</td>\n",
       "      <td>0.918033</td>\n",
       "      <td>29.000000</td>\n",
       "      <td>Thorax</td>\n",
       "    </tr>\n",
       "    <tr>\n",
       "      <th>accuracy</th>\n",
       "      <td>0.938272</td>\n",
       "      <td>0.938272</td>\n",
       "      <td>0.938272</td>\n",
       "      <td>0.938272</td>\n",
       "      <td>Thorax</td>\n",
       "    </tr>\n",
       "    <tr>\n",
       "      <th>macro avg</th>\n",
       "      <td>0.927296</td>\n",
       "      <td>0.944297</td>\n",
       "      <td>0.934264</td>\n",
       "      <td>81.000000</td>\n",
       "      <td>Thorax</td>\n",
       "    </tr>\n",
       "    <tr>\n",
       "      <th>weighted avg</th>\n",
       "      <td>0.942145</td>\n",
       "      <td>0.938272</td>\n",
       "      <td>0.938873</td>\n",
       "      <td>81.000000</td>\n",
       "      <td>Thorax</td>\n",
       "    </tr>\n",
       "  </tbody>\n",
       "</table>\n",
       "</div>"
      ],
      "text/plain": [
       "              precision    recall  f1-score    support  Tissue\n",
       "f              0.979592  0.923077  0.950495  52.000000  Thorax\n",
       "m              0.875000  0.965517  0.918033  29.000000  Thorax\n",
       "accuracy       0.938272  0.938272  0.938272   0.938272  Thorax\n",
       "macro avg      0.927296  0.944297  0.934264  81.000000  Thorax\n",
       "weighted avg   0.942145  0.938272  0.938873  81.000000  Thorax"
      ]
     },
     "execution_count": 82,
     "metadata": {},
     "output_type": "execute_result"
    }
   ],
   "source": [
    "report_thorax = classification_report(y_th_test, y_thorax_pred, output_dict=True)\n",
    "report_thorax = pd.DataFrame(report_thorax).transpose()\n",
    "report_thorax[\"Tissue\"] = \"Thorax\"\n",
    "report_thorax"
   ]
  },
  {
   "cell_type": "code",
   "execution_count": 86,
   "metadata": {},
   "outputs": [],
   "source": [
    "report_sex_prediction = pd.concat([report_head, report_thorax])\n",
    "\n",
    "report_sex_prediction.to_excel(\"../results/tables/wholespectra_results/Accuracy_sex_report.xlsx\")"
   ]
  },
  {
   "cell_type": "code",
   "execution_count": 88,
   "metadata": {},
   "outputs": [
    {
     "data": {
      "image/png": "[encoded data removed]",
      "text/plain": [
       "<Figure size 1000x400 with 2 Axes>"
      ]
     },
     "metadata": {},
     "output_type": "display_data"
    }
   ],
   "source": [
    "# plot\n",
    "\n",
    "sn.set(font_scale=1.2)\n",
    "sn.set_style(\"ticks\")\n",
    "sn.set_palette('bright', color_codes=True)\n",
    "\n",
    "fig, (ax, ax2) = plt.subplots(1, 2, figsize=(10,4), tight_layout=True)\n",
    "\n",
    "sn.boxplot(data=data_plot_head, x='param_clf',y='value',ax=ax, color='white')\n",
    "sn.stripplot(data=data_plot_head, x='param_clf',y='value',ax=ax,size=10, hue='param_clf', alpha=0.6, legend=False)\n",
    "plt.setp(ax.lines, color='k')\n",
    "\n",
    "for l, box in enumerate(ax.patches):\n",
    "    box.set_edgecolor('black')\n",
    "\n",
    "ax.axhline(0.5, color='r', ls='--')\n",
    "ax.set_ylim(0.4,1)\n",
    "\n",
    "\n",
    "\n",
    "sn.lineplot(x=wavenumbers, y=best_model_head['model'].coef_[0], ax=ax2, linewidth=0.5)\n",
    "\n",
    "\n",
    "plots1 = [ax2]\n",
    "\n",
    "for i in plots1:\n",
    "    i.axhline(0, color='k', ls='--')\n",
    "    sn.lineplot(x=wavenumbers, y=np.mean(X_hd_train, axis=0)*10, linewidth=0.5, color='k', ax=i)\n",
    "    i.set_xlim(4000, 400)\n",
    "    i.set_ylabel(\"Coefficients\")\n",
    "    i.set_xlabel(\"Wavenumbers (cm$^{-1}$)\")\n",
    "\n",
    "\n",
    "plots2 = [ax]\n",
    "for i in plots2:\n",
    "    i.axhline(0.5, color='r', ls='--')\n",
    "    i.set_ylim(0.4,1)\n",
    "    i.set_xlabel(\"Models\")\n",
    "    i.set_ylabel(\"Accuracy\")\n",
    "\n",
    "\n",
    "plt.savefig(\"../results/plots/sex_predicton_figure4.png\", dpi=900, bbox_inches='tight')"
   ]
  },
  {
   "attachments": {},
   "cell_type": "markdown",
   "metadata": {},
   "source": [
    "## monte carlo cross validation\n"
   ]
  },
  {
   "cell_type": "code",
   "execution_count": 49,
   "metadata": {},
   "outputs": [
    {
     "name": "stderr",
     "output_type": "stream",
     "text": [
      "shuffle split: 100%|██████████| 100/100 [00:18<00:00,  5.53it/s]"
     ]
    },
    {
     "name": "stdout",
     "output_type": "stream",
     "text": [
      "Model perfomance using monte carlo cross-validation\n",
      "Mean accuracy = 0.96 ± 0.02\n"
     ]
    },
    {
     "name": "stderr",
     "output_type": "stream",
     "text": [
      "\n"
     ]
    }
   ],
   "source": [
    "# monte carlo cross validation\n",
    "\n",
    "accuracy_head_mc, sensitivity_head_mc, specificity_head_mc = montecarlo_crossvalidation(X_head, y_head, best_model_head)\n"
   ]
  },
  {
   "cell_type": "code",
   "execution_count": 50,
   "metadata": {},
   "outputs": [
    {
     "name": "stderr",
     "output_type": "stream",
     "text": [
      "shuffle split: 100%|██████████| 100/100 [00:29<00:00,  3.38it/s]"
     ]
    },
    {
     "name": "stdout",
     "output_type": "stream",
     "text": [
      "Model perfomance using monte carlo cross-validation\n",
      "Mean accuracy = 0.94 ± 0.02\n"
     ]
    },
    {
     "name": "stderr",
     "output_type": "stream",
     "text": [
      "\n"
     ]
    }
   ],
   "source": [
    "accuracy_thorax_mc, sensitivity_thorax_mc, specificity_thorax_mc = montecarlo_crossvalidation(X_thorax, y_thorax, best_mdoel_thorax)"
   ]
  },
  {
   "cell_type": "code",
   "execution_count": 51,
   "metadata": {},
   "outputs": [],
   "source": [
    "monte_carlo = pd.DataFrame({\"Accuracy\": [np.mean(accuracy_head_mc),\n",
    "                                         np.mean(accuracy_thorax_mc)], \n",
    "                            \"std\":[np.std(accuracy_head_mc),\n",
    "                                   np.std(accuracy_thorax_mc)], \n",
    "                            \"Sensitivity\":[np.mean(sensitivity_head_mc),\n",
    "                                           np.mean(sensitivity_thorax_mc)],\n",
    "                            \"std_s\": [np.std(sensitivity_head_mc),\n",
    "                                           np.std(sensitivity_thorax_mc)],\n",
    "                            \"Specificity\": [np.mean(specificity_head_mc),\n",
    "                                          np.mean(specificity_thorax_mc)],\n",
    "                            \"std_sp\": [np.std(specificity_head_mc),\n",
    "                                          np.std(specificity_thorax_mc)]}, index=['head','thorax'])"
   ]
  },
  {
   "cell_type": "code",
   "execution_count": 52,
   "metadata": {},
   "outputs": [
    {
     "data": {
      "text/html": [
       "<div>\n",
       "<style scoped>\n",
       "    .dataframe tbody tr th:only-of-type {\n",
       "        vertical-align: middle;\n",
       "    }\n",
       "\n",
       "    .dataframe tbody tr th {\n",
       "        vertical-align: top;\n",
       "    }\n",
       "\n",
       "    .dataframe thead th {\n",
       "        text-align: right;\n",
       "    }\n",
       "</style>\n",
       "<table border=\"1\" class=\"dataframe\">\n",
       "  <thead>\n",
       "    <tr style=\"text-align: right;\">\n",
       "      <th></th>\n",
       "      <th>Accuracy</th>\n",
       "      <th>std</th>\n",
       "      <th>Sensitivity</th>\n",
       "      <th>std_s</th>\n",
       "      <th>Specificity</th>\n",
       "      <th>std_sp</th>\n",
       "    </tr>\n",
       "  </thead>\n",
       "  <tbody>\n",
       "    <tr>\n",
       "      <th>head</th>\n",
       "      <td>0.964500</td>\n",
       "      <td>0.022130</td>\n",
       "      <td>0.963112</td>\n",
       "      <td>0.029620</td>\n",
       "      <td>0.965252</td>\n",
       "      <td>0.030734</td>\n",
       "    </tr>\n",
       "    <tr>\n",
       "      <th>thorax</th>\n",
       "      <td>0.943704</td>\n",
       "      <td>0.022381</td>\n",
       "      <td>0.964027</td>\n",
       "      <td>0.033286</td>\n",
       "      <td>0.927500</td>\n",
       "      <td>0.033509</td>\n",
       "    </tr>\n",
       "  </tbody>\n",
       "</table>\n",
       "</div>"
      ],
      "text/plain": [
       "        Accuracy       std  Sensitivity     std_s  Specificity    std_sp\n",
       "head    0.964500  0.022130     0.963112  0.029620     0.965252  0.030734\n",
       "thorax  0.943704  0.022381     0.964027  0.033286     0.927500  0.033509"
      ]
     },
     "execution_count": 52,
     "metadata": {},
     "output_type": "execute_result"
    }
   ],
   "source": [
    "monte_carlo"
   ]
  },
  {
   "cell_type": "code",
   "execution_count": 55,
   "metadata": {},
   "outputs": [],
   "source": [
    "monte_carlo.to_excel(\"../results/tables/wholespectra_results/sex_prediction_mc.xlsx\")"
   ]
  }
 ],
 "metadata": {
  "kernelspec": {
   "display_name": ".tsetse_mirs",
   "language": "python",
   "name": "python3"
  },
  "language_info": {
   "codemirror_mode": {
    "name": "ipython",
    "version": 3
   },
   "file_extension": ".py",
   "mimetype": "text/x-python",
   "name": "python",
   "nbconvert_exporter": "python",
   "pygments_lexer": "ipython3",
   "version": "3.10.6"
  },
  "orig_nbformat": 4
 },
 "nbformat": 4,
 "nbformat_minor": 2
}
