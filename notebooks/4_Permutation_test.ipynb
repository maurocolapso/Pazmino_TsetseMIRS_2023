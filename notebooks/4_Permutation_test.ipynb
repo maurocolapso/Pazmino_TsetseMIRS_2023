{
 "cells": [
  {
   "cell_type": "markdown",
   "metadata": {},
   "source": [
    "# Permutation test"
   ]
  },
  {
   "cell_type": "code",
   "execution_count": 11,
   "metadata": {},
   "outputs": [],
   "source": [
    "import pandas as pd\n",
    "import seaborn as sn\n",
    "import matplotlib.pyplot as plt"
   ]
  },
  {
   "cell_type": "code",
   "execution_count": 12,
   "metadata": {},
   "outputs": [],
   "source": [
    "tsetse_data = pd.read_csv(\"../data/processed/TseTse_processed.csv\")"
   ]
  },
  {
   "cell_type": "code",
   "execution_count": 13,
   "metadata": {},
   "outputs": [],
   "source": [
    "tsetse_data_sameages = tsetse_data[(tsetse_data[\"Age\"]!= '3d')]\n",
    "tsetse_data_sameages_copy = tsetse_data_sameages.copy()\n",
    "\n",
    "tsetse_head = tsetse_data_sameages_copy.loc[tsetse_data_sameages_copy['Tissue'] == 'Head']\n",
    "\n",
    "X_sex_head = tsetse_head.loc[:,\"4000\":\"402\"]\n",
    "y_sex_head = tsetse_head.loc[:,\"Sex\"]"
   ]
  },
  {
   "cell_type": "code",
   "execution_count": 14,
   "metadata": {},
   "outputs": [],
   "source": [
    "# permutation test\n",
    "\n",
    "from sklearn.svm import SVC\n",
    "from sklearn.model_selection import StratifiedKFold\n",
    "from sklearn.model_selection import permutation_test_score\n",
    "\n",
    "clf = SVC(kernel=\"linear\", random_state=7)\n",
    "cv = StratifiedKFold(2, shuffle=True, random_state=0)\n",
    "\n",
    "score_sex, perm_scores_sex, pvalue_sex = permutation_test_score(\n",
    "    clf, X_sex_head, y_sex_head, scoring=\"accuracy\", cv=cv, n_permutations=1000)"
   ]
  },
  {
   "cell_type": "code",
   "execution_count": 22,
   "metadata": {},
   "outputs": [],
   "source": [
    "tsetse_males_head = tsetse_data.loc[(tsetse_data['Sex'] == 'm') & (tsetse_data['Tissue'] == 'Head')]\n",
    "\n",
    "X_males_head = tsetse_males_head.loc[:,\"4000\":\"402\"]\n",
    "y_males_head = tsetse_males_head.loc[:,\"Age\"]"
   ]
  },
  {
   "cell_type": "code",
   "execution_count": 24,
   "metadata": {},
   "outputs": [],
   "source": [
    "score_males, perm_scores_males, pvalue_males = permutation_test_score(\n",
    "    clf, X_males_head, y_males_head, scoring=\"accuracy\", cv=cv, n_permutations=1000)"
   ]
  },
  {
   "cell_type": "code",
   "execution_count": 29,
   "metadata": {},
   "outputs": [],
   "source": [
    "tsetse_females_head = tsetse_data.loc[(tsetse_data['Sex'] == 'f') & (tsetse_data['Tissue'] == 'Head')]\n",
    "\n",
    "X_females_head = tsetse_females_head.loc[:,\"4000\":\"402\"]\n",
    "y_females_head = tsetse_females_head.loc[:,\"Age\"]"
   ]
  },
  {
   "cell_type": "code",
   "execution_count": 30,
   "metadata": {},
   "outputs": [],
   "source": [
    "score_females, perm_scores_females, pvalue_females = permutation_test_score(\n",
    "    clf, X_females_head, y_females_head, scoring=\"accuracy\", cv=cv, n_permutations=1000)"
   ]
  },
  {
   "cell_type": "code",
   "execution_count": 75,
   "metadata": {},
   "outputs": [
    {
     "data": {
      "image/png": "[encoded data removed]",
      "text/plain": [
       "<Figure size 400x500 with 3 Axes>"
      ]
     },
     "metadata": {},
     "output_type": "display_data"
    }
   ],
   "source": [
    "rc={'font.size': 12,\n",
    "    \"font.family\":\"Arial\",\n",
    "    \"axes.labelsize\":10,\n",
    "    'xtick.labelsize':10,\n",
    "    'ytick.labelsize':10}\n",
    "\n",
    "sn.set_style(\"ticks\")\n",
    "sn.set_context('notebook', rc=rc)\n",
    "sn.set_palette('bright', color_codes=True)\n",
    "\n",
    "fig, axs = plt.subplots(3,figsize=(4,5), sharex=True)\n",
    "axs[0].hist(perm_scores_sex, density=True, color='grey')\n",
    "axs[0].axvline(score_sex, ls=\"--\", color=\"k\")\n",
    "score_label = f\"p-value: {pvalue_sex:.3f}\"\n",
    "axs[0].text(0.1, 25, score_label, fontsize=9)\n",
    "\n",
    "axs[1].hist(perm_scores_males, density=True, color='grey')\n",
    "axs[1].axvline(score_males, ls=\"--\", color=\"k\")\n",
    "score_label_male = f\"p-value: {pvalue_males:.3f}\"\n",
    "axs[1].text(0.1, 9, score_label_male, fontsize=9)\n",
    "\n",
    "\n",
    "axs[2].hist(perm_scores_females, density=True, color='grey')\n",
    "axs[2].axvline(score_females, ls=\"--\", color=\"k\")\n",
    "score_label_female = f\"p-value: {pvalue_females:.3f}\"\n",
    "axs[2].text(0.1, 30, score_label_female, fontsize=9)\n",
    "\n",
    "\n",
    "\n",
    "axs[2].set_xlabel(\"Accuracy score\")\n",
    "fig.text(x=0,\n",
    "        y=0.5,\n",
    "        s=\"Probability\",\n",
    "        rotation='vertical', \n",
    "        horizontalalignment='center',\n",
    "        verticalalignment='center')\n",
    "axs[0].set_xlim(0,1)\n",
    "abcd = [\"A\", \"B\", \"C\"]\n",
    "for ax,l in zip(axs.flat,abcd):\n",
    "    ax.set_title(l, fontweight='bold', loc='left')\n",
    "\n",
    "plt.subplots_adjust(hspace=0.5)\n",
    "\n",
    "plt.savefig(\"../results/plots/FigS1.png\", dpi=300, bbox_inches='tight')"
   ]
  }
 ],
 "metadata": {
  "kernelspec": {
   "display_name": ".tsetse_mirs",
   "language": "python",
   "name": "python3"
  },
  "language_info": {
   "codemirror_mode": {
    "name": "ipython",
    "version": 3
   },
   "file_extension": ".py",
   "mimetype": "text/x-python",
   "name": "python",
   "nbconvert_exporter": "python",
   "pygments_lexer": "ipython3",
   "version": "3.10.6"
  }
 },
 "nbformat": 4,
 "nbformat_minor": 2
}
