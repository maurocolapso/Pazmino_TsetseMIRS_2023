{
 "cells": [
  {
   "cell_type": "markdown",
   "metadata": {},
   "source": [
    "# Traits prediction in Tsetse flies uisng the whole mid infrared region\n",
    "Final jupyter notebook for sex, and age prediction of males and females flies using the infrared region from 4000-400 cm-1. This notebooks creates the models and reproduces figure 4 of the manuscript. \n",
    "\n",
    "## Changelog"
   ]
  },
  {
   "cell_type": "code",
   "execution_count": 2,
   "metadata": {},
   "outputs": [],
   "source": [
    "%load_ext autoreload\n",
    "%autoreload 2"
   ]
  },
  {
   "cell_type": "code",
   "execution_count": 42,
   "metadata": {},
   "outputs": [],
   "source": [
    "\n",
    "import sys\n",
    "\n",
    "import pandas as pd\n",
    "import seaborn as sn\n",
    "import matplotlib.pyplot as plt\n",
    "import numpy as np\n",
    "import joblib\n",
    "\n",
    "\n",
    "from sklearn.model_selection import train_test_split\n",
    "from sklearn.metrics import accuracy_score\n",
    "\n",
    "\n",
    "\n",
    "sys.path.append('../src')\n",
    "from utilities import baseline_accuracy\n",
    "from utilities import dataplotmelt\n",
    "from utilities import test_model\n",
    "from utilities import model_optimization\n",
    "from utilities import sample_split_report\n",
    "from utilities import train_model\n",
    "from utilities import test_model"
   ]
  },
  {
   "cell_type": "code",
   "execution_count": 4,
   "metadata": {},
   "outputs": [],
   "source": [
    "colors = sn.color_palette(\"Set2\") "
   ]
  },
  {
   "cell_type": "code",
   "execution_count": 5,
   "metadata": {},
   "outputs": [],
   "source": [
    "tsetse_data = pd.read_csv(\"../data/processed/TseTse_processed.csv\")"
   ]
  },
  {
   "cell_type": "code",
   "execution_count": 6,
   "metadata": {},
   "outputs": [
    {
     "data": {
      "text/html": [
       "<div>\n",
       "<style scoped>\n",
       "    .dataframe tbody tr th:only-of-type {\n",
       "        vertical-align: middle;\n",
       "    }\n",
       "\n",
       "    .dataframe tbody tr th {\n",
       "        vertical-align: top;\n",
       "    }\n",
       "\n",
       "    .dataframe thead th {\n",
       "        text-align: right;\n",
       "    }\n",
       "</style>\n",
       "<table border=\"1\" class=\"dataframe\">\n",
       "  <thead>\n",
       "    <tr style=\"text-align: right;\">\n",
       "      <th></th>\n",
       "      <th></th>\n",
       "      <th></th>\n",
       "      <th>ID</th>\n",
       "    </tr>\n",
       "    <tr>\n",
       "      <th>Sex</th>\n",
       "      <th>Age</th>\n",
       "      <th>Tissue</th>\n",
       "      <th></th>\n",
       "    </tr>\n",
       "  </thead>\n",
       "  <tbody>\n",
       "    <tr>\n",
       "      <th rowspan=\"9\" valign=\"top\">f</th>\n",
       "      <th rowspan=\"3\" valign=\"top\">3d</th>\n",
       "      <th>Abdomen</th>\n",
       "      <td>48</td>\n",
       "    </tr>\n",
       "    <tr>\n",
       "      <th>Head</th>\n",
       "      <td>133</td>\n",
       "    </tr>\n",
       "    <tr>\n",
       "      <th>Thorax</th>\n",
       "      <td>136</td>\n",
       "    </tr>\n",
       "    <tr>\n",
       "      <th rowspan=\"3\" valign=\"top\">5w</th>\n",
       "      <th>Abdomen</th>\n",
       "      <td>16</td>\n",
       "    </tr>\n",
       "    <tr>\n",
       "      <th>Head</th>\n",
       "      <td>92</td>\n",
       "    </tr>\n",
       "    <tr>\n",
       "      <th>Thorax</th>\n",
       "      <td>96</td>\n",
       "    </tr>\n",
       "    <tr>\n",
       "      <th rowspan=\"3\" valign=\"top\">7w</th>\n",
       "      <th>Abdomen</th>\n",
       "      <td>38</td>\n",
       "    </tr>\n",
       "    <tr>\n",
       "      <th>Head</th>\n",
       "      <td>120</td>\n",
       "    </tr>\n",
       "    <tr>\n",
       "      <th>Thorax</th>\n",
       "      <td>122</td>\n",
       "    </tr>\n",
       "    <tr>\n",
       "      <th rowspan=\"5\" valign=\"top\">m</th>\n",
       "      <th rowspan=\"2\" valign=\"top\">5w</th>\n",
       "      <th>Head</th>\n",
       "      <td>94</td>\n",
       "    </tr>\n",
       "    <tr>\n",
       "      <th>Thorax</th>\n",
       "      <td>93</td>\n",
       "    </tr>\n",
       "    <tr>\n",
       "      <th rowspan=\"3\" valign=\"top\">7w</th>\n",
       "      <th>Abdomen</th>\n",
       "      <td>15</td>\n",
       "    </tr>\n",
       "    <tr>\n",
       "      <th>Head</th>\n",
       "      <td>93</td>\n",
       "    </tr>\n",
       "    <tr>\n",
       "      <th>Thorax</th>\n",
       "      <td>92</td>\n",
       "    </tr>\n",
       "  </tbody>\n",
       "</table>\n",
       "</div>"
      ],
      "text/plain": [
       "                  ID\n",
       "Sex Age Tissue      \n",
       "f   3d  Abdomen   48\n",
       "        Head     133\n",
       "        Thorax   136\n",
       "    5w  Abdomen   16\n",
       "        Head      92\n",
       "        Thorax    96\n",
       "    7w  Abdomen   38\n",
       "        Head     120\n",
       "        Thorax   122\n",
       "m   5w  Head      94\n",
       "        Thorax    93\n",
       "    7w  Abdomen   15\n",
       "        Head      93\n",
       "        Thorax    92"
      ]
     },
     "execution_count": 6,
     "metadata": {},
     "output_type": "execute_result"
    }
   ],
   "source": [
    "df_ic = pd.DataFrame(tsetse_data.groupby(['Sex','Age','Tissue'])['ID'].count())\n",
    "df_ic"
   ]
  },
  {
   "cell_type": "code",
   "execution_count": null,
   "metadata": {},
   "outputs": [],
   "source": [
    "df_ic.to_excel(\"../results/tables/wholespectra_results/samples_summary.xlsx\")"
   ]
  },
  {
   "cell_type": "code",
   "execution_count": 7,
   "metadata": {},
   "outputs": [],
   "source": [
    "tsetse_data_sameages = tsetse_data[(tsetse_data[\"Age\"]!= '3d')]\n",
    "tsetse_data_sameages_copy = tsetse_data_sameages.copy()\n",
    "\n",
    "tsetse_thorax = tsetse_data_sameages_copy.loc[tsetse_data_sameages_copy['Tissue'] == 'Thorax']\n",
    "tsetse_head = tsetse_data_sameages_copy.loc[tsetse_data_sameages_copy['Tissue'] == 'Head']"
   ]
  },
  {
   "cell_type": "markdown",
   "metadata": {},
   "source": [
    "## Sex prediction"
   ]
  },
  {
   "cell_type": "code",
   "execution_count": 8,
   "metadata": {},
   "outputs": [],
   "source": [
    "X_sex_thorax = tsetse_thorax.loc[:,\"4000\":\"402\"]\n",
    "y_sex_thorax = tsetse_thorax.loc[:,\"Sex\"]\n",
    "\n",
    "X_sex_head = tsetse_head.loc[:,\"4000\":\"402\"]\n",
    "y_sex_head = tsetse_head.loc[:,\"Sex\"]"
   ]
  },
  {
   "cell_type": "code",
   "execution_count": 9,
   "metadata": {},
   "outputs": [],
   "source": [
    "waveNumslist = X_sex_thorax.columns.values.tolist()\n",
    "wavenumbers = [int(x) for x in waveNumslist]"
   ]
  },
  {
   "cell_type": "code",
   "execution_count": 10,
   "metadata": {},
   "outputs": [],
   "source": [
    "X_th_train, X_th_test, y_th_train, y_th_test = train_test_split(X_sex_thorax, y_sex_thorax, test_size=0.2, shuffle=True, random_state=123)\n",
    "\n",
    "X_hd_train, X_hd_test, y_hd_train, y_hd_test = train_test_split(X_sex_head, y_sex_head, test_size=0.2, shuffle=True, random_state=123)"
   ]
  },
  {
   "cell_type": "code",
   "execution_count": 11,
   "metadata": {},
   "outputs": [
    {
     "name": "stdout",
     "output_type": "stream",
     "text": [
      "     train_head  train_thorax  test_head  test_thorax\n",
      "Sex                                                  \n",
      "f           166           166         46           52\n",
      "m           153           156         34           29\n"
     ]
    }
   ],
   "source": [
    "sample_split_report(y_hd_train,y_th_train,y_hd_test, y_th_test, 'sexes')"
   ]
  },
  {
   "cell_type": "code",
   "execution_count": 12,
   "metadata": {},
   "outputs": [
    {
     "name": "stdout",
     "output_type": "stream",
     "text": [
      "Fitting 10 folds for each of 4 candidates, totalling 40 fits\n",
      "Fitting 10 folds for each of 4 candidates, totalling 40 fits\n"
     ]
    }
   ],
   "source": [
    "sex_thorax_acc_baseline = baseline_accuracy(X_th_train, y_th_train)\n",
    "sex_head_acc_baseline = baseline_accuracy(X_hd_train,y_hd_train)"
   ]
  },
  {
   "cell_type": "code",
   "execution_count": 13,
   "metadata": {},
   "outputs": [],
   "source": [
    "sex_data_plot_thorax = dataplotmelt(sex_thorax_acc_baseline)\n",
    "sex_data_plot_head = dataplotmelt(sex_head_acc_baseline)"
   ]
  },
  {
   "cell_type": "code",
   "execution_count": 89,
   "metadata": {},
   "outputs": [],
   "source": [
    "acc_sex_training_thorax = sex_data_plot_thorax[sex_data_plot_thorax['param_clf'] == 'LR']['value'].mean()\n",
    "\n",
    "std_sex_training_thorax = sex_data_plot_thorax[sex_data_plot_thorax['param_clf'] == 'LR']['value'].std()\n",
    "\n",
    "acc_sex_training_head = sex_data_plot_head[sex_data_plot_head['param_clf'] == 'LR']['value'].mean()\n",
    "\n",
    "std_sex_training_head = sex_data_plot_head[sex_data_plot_head['param_clf'] == 'LR']['value'].std()"
   ]
  },
  {
   "cell_type": "code",
   "execution_count": 28,
   "metadata": {},
   "outputs": [
    {
     "name": "stdout",
     "output_type": "stream",
     "text": [
      "Best model parameters{'model__C': 100, 'model__penalty': 'l2', 'model__solver': 'newton-cg'}\n",
      "Best model parameters{'model__C': 100, 'model__penalty': 'l2', 'model__solver': 'liblinear'}\n"
     ]
    }
   ],
   "source": [
    "# Head\n",
    "best_model_head = model_optimization(X_hd_train,y_hd_train)\n",
    "# thorax\n",
    "best_mdoel_thorax = model_optimization(X_th_train, y_th_train)"
   ]
  },
  {
   "cell_type": "code",
   "execution_count": 134,
   "metadata": {},
   "outputs": [],
   "source": [
    "# Train the best model\n",
    "sex_model_head=train_model(X_hd_train,y_hd_train, best_model_head,'sex_head')\n",
    "sex_model_thorax=train_model(X_th_train,y_th_train, best_mdoel_thorax,'sex_thorax')"
   ]
  },
  {
   "cell_type": "code",
   "execution_count": 27,
   "metadata": {},
   "outputs": [],
   "source": [
    "#test model\n",
    "loaded_model_sex_head = joblib.load('../results/models/trained_model_sex_head.sav')\n",
    "loaded_model_sex_thorax = joblib.load('../results/models/trained_model_sex_thorax.sav')\n",
    "\n"
   ]
  },
  {
   "cell_type": "code",
   "execution_count": 59,
   "metadata": {},
   "outputs": [
    {
     "name": "stdout",
     "output_type": "stream",
     "text": [
      "Accuracy on test set using the head: 0.9875\n",
      "Accuracy on test set using the head: 0.9382716049382716\n"
     ]
    }
   ],
   "source": [
    "y_sex_head_pred, y_sex_head_prob = test_model(X_hd_test, y_hd_test, loaded_model_sex_head)\n",
    "\n",
    "y_sex_thorax_pred, y_sex_thorax_prob = test_model(X_th_test, y_th_test, loaded_model_sex_thorax)"
   ]
  },
  {
   "cell_type": "markdown",
   "metadata": {},
   "source": [
    "## Male age prediction"
   ]
  },
  {
   "cell_type": "code",
   "execution_count": 14,
   "metadata": {},
   "outputs": [],
   "source": [
    "tsetse_males_thorax = tsetse_data.loc[(tsetse_data['Sex'] == 'm') & (tsetse_data['Tissue'] == 'Thorax')]\n",
    "\n",
    "tsetse_males_head = tsetse_data.loc[(tsetse_data['Sex'] == 'm') & (tsetse_data['Tissue'] == 'Head')]"
   ]
  },
  {
   "cell_type": "code",
   "execution_count": 15,
   "metadata": {},
   "outputs": [],
   "source": [
    "X_males_thorax = tsetse_males_thorax.loc[:,\"4000\":\"402\"]\n",
    "X_males_head = tsetse_males_head.loc[:,\"4000\":\"402\"]\n",
    "\n",
    "y_males_thorax = tsetse_males_thorax.loc[:,\"Age\"]\n",
    "y_males_head = tsetse_males_head.loc[:,\"Age\"]"
   ]
  },
  {
   "cell_type": "code",
   "execution_count": 16,
   "metadata": {},
   "outputs": [],
   "source": [
    "Xm_th_train, Xm_th_test, ym_th_train, ym_th_test = train_test_split(X_males_thorax, y_males_thorax, test_size=0.2, shuffle=True, random_state=123)\n",
    "\n",
    "Xm_hd_train, Xm_hd_test, ym_hd_train, ym_hd_test = train_test_split(X_males_head, y_males_head, test_size=0.2, shuffle=True, random_state=123)"
   ]
  },
  {
   "cell_type": "code",
   "execution_count": 17,
   "metadata": {},
   "outputs": [
    {
     "name": "stdout",
     "output_type": "stream",
     "text": [
      "     train_head  train_thorax  test_head  test_thorax\n",
      "Age                                                  \n",
      "5w           68            71         26           22\n",
      "7w           81            77         12           15\n"
     ]
    }
   ],
   "source": [
    "sample_split_report(ym_hd_train,ym_th_train,ym_hd_test, ym_th_test, 'maless')"
   ]
  },
  {
   "cell_type": "code",
   "execution_count": 18,
   "metadata": {},
   "outputs": [
    {
     "name": "stdout",
     "output_type": "stream",
     "text": [
      "Fitting 10 folds for each of 4 candidates, totalling 40 fits\n",
      "Fitting 10 folds for each of 4 candidates, totalling 40 fits\n"
     ]
    }
   ],
   "source": [
    "males_thorax_acc_baseline = baseline_accuracy(Xm_th_train, ym_th_train)\n",
    "males_head_acc_baseline = baseline_accuracy(Xm_hd_train,ym_hd_train)"
   ]
  },
  {
   "cell_type": "code",
   "execution_count": 19,
   "metadata": {},
   "outputs": [],
   "source": [
    "males_data_plot_thorax = dataplotmelt(males_thorax_acc_baseline)\n",
    "males_data_plot_head = dataplotmelt(males_head_acc_baseline)"
   ]
  },
  {
   "cell_type": "code",
   "execution_count": 77,
   "metadata": {},
   "outputs": [],
   "source": [
    "acc_age_male_training_thorax = males_data_plot_thorax[males_data_plot_thorax['param_clf'] == 'LR']['value'].mean()\n",
    "\n",
    "std_age_male_training_thorax = males_data_plot_thorax[males_data_plot_thorax['param_clf'] == 'LR']['value'].std()\n",
    "\n",
    "acc_age_male_training_head = males_data_plot_head[males_data_plot_head['param_clf'] == 'LR']['value'].mean()\n",
    "\n",
    "std_age_male_training_head = males_data_plot_head[males_data_plot_head['param_clf'] == 'LR']['value'].std()"
   ]
  },
  {
   "cell_type": "code",
   "execution_count": 63,
   "metadata": {},
   "outputs": [
    {
     "name": "stdout",
     "output_type": "stream",
     "text": [
      "Best model parameters{'model__C': 100, 'model__penalty': 'l2', 'model__solver': 'newton-cg'}\n",
      "Best model parameters{'model__C': 100, 'model__penalty': 'l2', 'model__solver': 'newton-cg'}\n"
     ]
    }
   ],
   "source": [
    "# model optimization\n",
    "\n",
    "males_best_model_head = model_optimization(Xm_hd_train,ym_hd_train)\n",
    "males_best_model_thorax = model_optimization(Xm_th_train, ym_th_train)"
   ]
  },
  {
   "cell_type": "code",
   "execution_count": 64,
   "metadata": {},
   "outputs": [],
   "source": [
    "# Train the best model\n",
    "train_model(Xm_hd_train,ym_hd_train, males_best_model_head,\"head_male\")\n",
    "train_model(Xm_th_train,ym_th_train,males_best_model_thorax,\"thorax_male\")"
   ]
  },
  {
   "cell_type": "code",
   "execution_count": 28,
   "metadata": {},
   "outputs": [],
   "source": [
    "#test model\n",
    "loaded_model_males_head = joblib.load('../results/models/trained_model_head_male.sav')\n",
    "\n",
    "loaded_model_males_thorax = joblib.load('../results/models/trained_model_thorax_male.sav')"
   ]
  },
  {
   "cell_type": "code",
   "execution_count": 53,
   "metadata": {},
   "outputs": [
    {
     "name": "stdout",
     "output_type": "stream",
     "text": [
      "Accuracy on test set using the head: 0.8947368421052632\n",
      "Accuracy on test set using the head: 0.918918918918919\n"
     ]
    }
   ],
   "source": [
    "y_male_head_pred, y_male_head_prob = test_model(Xm_hd_test, ym_hd_test, loaded_model_males_head)\n",
    "\n",
    "y_male_thorax_pred, y_male_thorax_prob = test_model(Xm_th_test, ym_th_test, loaded_model_males_thorax)"
   ]
  },
  {
   "cell_type": "markdown",
   "metadata": {},
   "source": [
    "## Female age prediction"
   ]
  },
  {
   "cell_type": "code",
   "execution_count": 20,
   "metadata": {},
   "outputs": [],
   "source": [
    "tsetse_females_thorax = tsetse_data.loc[(tsetse_data['Sex'] == 'f') & (tsetse_data['Tissue'] == 'Thorax')]\n",
    "\n",
    "tsetse_females_head = tsetse_data.loc[(tsetse_data['Sex'] == 'f') & (tsetse_data['Tissue'] == 'Head')]"
   ]
  },
  {
   "cell_type": "code",
   "execution_count": 21,
   "metadata": {},
   "outputs": [],
   "source": [
    "X_females_thorax = tsetse_females_thorax.loc[:,\"4000\":\"402\"]\n",
    "X_females_head = tsetse_females_head.loc[:,\"4000\":\"402\"]\n",
    "\n",
    "y_females_thorax = tsetse_females_thorax.loc[:,\"Age\"]\n",
    "y_females_head = tsetse_females_head.loc[:,\"Age\"]"
   ]
  },
  {
   "cell_type": "code",
   "execution_count": 22,
   "metadata": {},
   "outputs": [],
   "source": [
    "Xf_th_train, Xf_th_test, yf_th_train, yf_th_test = train_test_split(X_females_thorax, y_females_thorax, test_size=0.2, shuffle=True, random_state=123)\n",
    "\n",
    "Xf_hd_train, Xf_hd_test, yf_hd_train, yf_hd_test = train_test_split(X_females_head, y_females_head, test_size=0.2, shuffle=True, random_state=123)"
   ]
  },
  {
   "cell_type": "code",
   "execution_count": 23,
   "metadata": {},
   "outputs": [
    {
     "name": "stdout",
     "output_type": "stream",
     "text": [
      "     train_head  train_thorax  test_head  test_thorax\n",
      "Age                                                  \n",
      "3d          109           114         24           22\n",
      "5w           73            71         19           25\n",
      "7w           94            98         26           24\n"
     ]
    }
   ],
   "source": [
    "sample_split_report(yf_hd_train,yf_th_train,yf_hd_test, yf_th_test, 'femaless')"
   ]
  },
  {
   "cell_type": "code",
   "execution_count": 24,
   "metadata": {},
   "outputs": [
    {
     "name": "stdout",
     "output_type": "stream",
     "text": [
      "Fitting 10 folds for each of 4 candidates, totalling 40 fits\n",
      "Fitting 10 folds for each of 4 candidates, totalling 40 fits\n"
     ]
    }
   ],
   "source": [
    "females_thorax_acc_baseline = baseline_accuracy(Xf_th_train, yf_th_train)\n",
    "females_head_acc_baseline = baseline_accuracy(Xf_hd_train,yf_hd_train)"
   ]
  },
  {
   "cell_type": "code",
   "execution_count": 25,
   "metadata": {},
   "outputs": [],
   "source": [
    "females_data_plot_thorax = dataplotmelt(females_thorax_acc_baseline)\n",
    "females_data_plot_head = dataplotmelt(females_head_acc_baseline)"
   ]
  },
  {
   "cell_type": "code",
   "execution_count": 79,
   "metadata": {},
   "outputs": [],
   "source": [
    "acc_age_female_training_thorax = females_data_plot_thorax[females_data_plot_thorax['param_clf'] == 'LR']['value'].mean()\n",
    "\n",
    "std_age_female_training_thorax = females_data_plot_thorax[females_data_plot_thorax['param_clf'] == 'LR']['value'].std()\n",
    "\n",
    "acc_age_female_training_head = females_data_plot_head[females_data_plot_head['param_clf'] == 'LR']['value'].mean()\n",
    "\n",
    "std_age_female_training_head = females_data_plot_head[females_data_plot_head['param_clf'] == 'LR']['value'].std()"
   ]
  },
  {
   "cell_type": "code",
   "execution_count": 84,
   "metadata": {},
   "outputs": [
    {
     "data": {
      "text/plain": [
       "0.8571428571428571"
      ]
     },
     "execution_count": 84,
     "metadata": {},
     "output_type": "execute_result"
    }
   ],
   "source": [
    "acc_age_female_training_head"
   ]
  },
  {
   "cell_type": "code",
   "execution_count": 83,
   "metadata": {},
   "outputs": [
    {
     "name": "stdout",
     "output_type": "stream",
     "text": [
      "Best model parameters{'model__C': 100, 'model__penalty': 'l2', 'model__solver': 'newton-cg'}\n",
      "Best model parameters{'model__C': 100, 'model__penalty': 'l2', 'model__solver': 'liblinear'}\n"
     ]
    }
   ],
   "source": [
    "# model optimization\n",
    "\n",
    "females_best_model_head = model_optimization(Xf_hd_train,yf_hd_train)\n",
    "females_best_model_thorax = model_optimization(Xf_th_train, yf_th_train)"
   ]
  },
  {
   "cell_type": "code",
   "execution_count": 84,
   "metadata": {},
   "outputs": [],
   "source": [
    "# Train the best model\n",
    "train_model(Xf_hd_train,yf_hd_train, females_best_model_head,\"head_female\")\n",
    "train_model(Xf_th_train,yf_th_train, females_best_model_thorax,\"thorax_female\")"
   ]
  },
  {
   "cell_type": "code",
   "execution_count": 29,
   "metadata": {},
   "outputs": [],
   "source": [
    "#test model\n",
    "loaded_model_females_head = joblib.load('../results/models/trained_model_head_female.sav')\n",
    "\n",
    "loaded_model_females_thorax = joblib.load('../results/models/trained_model_thorax_female.sav')"
   ]
  },
  {
   "cell_type": "code",
   "execution_count": 44,
   "metadata": {},
   "outputs": [
    {
     "name": "stdout",
     "output_type": "stream",
     "text": [
      "Accuracy on test set using the head: 0.927536231884058\n",
      "Accuracy on test set using the head: 0.9295774647887324\n"
     ]
    }
   ],
   "source": [
    "y_female_head_pred, y_female_head_prob = test_model(Xf_hd_test, yf_hd_test, loaded_model_females_head)\n",
    "\n",
    "y_female_thorax_pred, y_female_thorax_prob = test_model(Xf_th_test, yf_th_test, loaded_model_females_thorax)"
   ]
  },
  {
   "cell_type": "code",
   "execution_count": 30,
   "metadata": {},
   "outputs": [
    {
     "data": {
      "image/png": "[encoded data removed]",
      "text/plain": [
       "<Figure size 750x700 with 6 Axes>"
      ]
     },
     "metadata": {},
     "output_type": "display_data"
    }
   ],
   "source": [
    "# Figure 4\n",
    "\n",
    "rc={'font.size': 12,\n",
    "    \"font.family\":\"Arial\",\n",
    "    \"axes.labelsize\":10,\n",
    "    'xtick.labelsize':10,\n",
    "    'ytick.labelsize':10}\n",
    "\n",
    "sn.set_style(\"ticks\")\n",
    "sn.set_context('notebook', rc=rc)\n",
    "sn.set_palette('bright', color_codes=True)\n",
    "\n",
    "fig, ((ax, ax2),(ax3,ax4),(ax5,ax6)) = plt.subplots(3, 2, figsize=(7.5,7), tight_layout=False)\n",
    "\n",
    "plt.subplots_adjust(hspace=0)\n",
    "\n",
    "\n",
    "# Sex prediction\n",
    "sn.boxplot(data=sex_data_plot_head, x='param_clf',y='value',ax=ax, color='white',boxprops={'fill': None})\n",
    "sn.stripplot(data=sex_data_plot_head, x='param_clf',y='value',ax=ax,size=7, alpha=0.8, legend=False, linewidth=1,edgecolor='k',color='gainsboro',zorder=0)\n",
    "plt.setp(ax.lines, color='k')\n",
    "\n",
    "for l, box in enumerate(ax.patches):\n",
    "    box.set_edgecolor('black')\n",
    "\n",
    "ax.axhline(0.5, color='r', ls='--')\n",
    "ax.set_ylim(0.4,1)\n",
    "\n",
    "\n",
    "sn.lineplot(x=wavenumbers, y=loaded_model_sex_head['model'].coef_[0], ax=ax2, linewidth=0.5)\n",
    "\n",
    "\n",
    "\n",
    "# Male age prediction\n",
    "sn.boxplot(data=males_data_plot_head, x='param_clf',y='value',ax=ax3, color='white',boxprops={'fill': None})\n",
    "sn.stripplot(data=males_data_plot_head, x='param_clf',y='value',ax=ax3,size=7, alpha=0.6, legend=False,linewidth=1,edgecolor='k',color='gainsboro',zorder=0)\n",
    "plt.setp(ax3.lines, color='k')\n",
    "for l, box in enumerate(ax3.patches):\n",
    "    box.set_edgecolor('black')\n",
    "\n",
    "ax.axhline(0.5, color='r', ls='--')\n",
    "ax.set_ylim(0.4,1)\n",
    "\n",
    "\n",
    "\n",
    "sn.lineplot(x=wavenumbers, y=loaded_model_males_head['model'].coef_[0], ax=ax4, linewidth=0.5)\n",
    "\n",
    "\n",
    "\n",
    "# female age prediction\n",
    "sn.boxplot(data=females_data_plot_head, x='param_clf',y='value',ax=ax5, color='white',boxprops={'fill': None})\n",
    "sn.stripplot(data=females_data_plot_head, x='param_clf',y='value',ax=ax5,size=7, alpha=0.6, legend=False,linewidth=1,edgecolor='k',color='gainsboro',zorder=0)\n",
    "plt.setp(ax5.lines, color='k')\n",
    "for l, box in enumerate(ax5.patches):\n",
    "    box.set_edgecolor('black')\n",
    "\n",
    "ax5.axhline(0.3, color='r', ls='--')\n",
    "ax5.set_ylim(0.2,1)\n",
    "\n",
    "\n",
    "\n",
    "sn.lineplot(x=wavenumbers, y=loaded_model_females_head['model'].coef_[0], ax=ax6, linewidth=0.5)\n",
    "\n",
    "\n",
    "\n",
    "# Overall aesthetics and annotations\n",
    "\n",
    "plots1 = [ax2,ax4,ax6]\n",
    "\n",
    "plots_g = [ax,ax2,ax3,ax4,ax5,ax6]\n",
    "abcd = [\"A\", \"B\", \"C\", \"D\", \"E\", \"F\"]\n",
    "\n",
    "for i,a in zip(plots_g,abcd):\n",
    "    i.set_title(a, fontweight='bold',loc=\"left\")\n",
    "\n",
    "for i in plots1:\n",
    "    i.axhline(0, color='k', ls='--')\n",
    "    sn.lineplot(x=wavenumbers, y=np.mean(X_hd_train, axis=0)*10, linewidth=0.5, color='k', ax=i)\n",
    "    i.set_xlim(4000, 400)\n",
    "    i.set_ylabel(\"Coefficients\")\n",
    "    i.set_xlabel(\"Wavenumbers (cm$^{-1}$)\")\n",
    "\n",
    "\n",
    "plots2 = [ax,ax3]\n",
    "for i in plots2:\n",
    "    i.axhline(0.5, color='r', ls='--')\n",
    "    i.set_ylim(0.4,1)\n",
    "    i.set_xlabel(\"Models\")\n",
    "    i.set_ylabel(\"Accuracy\")\n",
    "\n",
    "ax5.axhline(0.3, color='r', ls='--')\n",
    "ax5.set_ylim(0.2,1)\n",
    "ax5.set_xlabel(\"Models\")\n",
    "ax5.set_ylabel(\"Accuracy\")\n",
    "\n",
    "#fig.text(x=0.25,y=1,s=\"Head\",fontweight='bold')\n",
    "#fig.text(x=0.75,y=1,s=\"Thorax\",fontweight='bold')\n",
    "fig.text(x=0.5,y=0.98,s=\"Sex prediction\",ha='center',fontweight='bold')\n",
    "fig.text(x=0.5,y=0.66,s=\"Male age prediction\",ha='center',fontweight='bold')\n",
    "fig.text(x=0.5,y=0.34,s=\"Female age prediction\",ha='center',fontweight='bold')\n",
    "\n",
    "\n",
    "\n",
    "plt.savefig(\"../results/plots/Fig4.tiff\", dpi=300, bbox_inches='tight')"
   ]
  },
  {
   "cell_type": "code",
   "execution_count": 90,
   "metadata": {},
   "outputs": [
    {
     "data": {
      "text/html": [
       "<div>\n",
       "<style scoped>\n",
       "    .dataframe tbody tr th:only-of-type {\n",
       "        vertical-align: middle;\n",
       "    }\n",
       "\n",
       "    .dataframe tbody tr th {\n",
       "        vertical-align: top;\n",
       "    }\n",
       "\n",
       "    .dataframe thead th {\n",
       "        text-align: right;\n",
       "    }\n",
       "</style>\n",
       "<table border=\"1\" class=\"dataframe\">\n",
       "  <thead>\n",
       "    <tr style=\"text-align: right;\">\n",
       "      <th></th>\n",
       "      <th>Accuracy Training</th>\n",
       "      <th>std accuracy training</th>\n",
       "      <th>Accuracy Test</th>\n",
       "    </tr>\n",
       "  </thead>\n",
       "  <tbody>\n",
       "    <tr>\n",
       "      <th>sex_head</th>\n",
       "      <td>0.943750</td>\n",
       "      <td>0.023524</td>\n",
       "      <td>0.987500</td>\n",
       "    </tr>\n",
       "    <tr>\n",
       "      <th>sex_thorax</th>\n",
       "      <td>0.935385</td>\n",
       "      <td>0.027900</td>\n",
       "      <td>0.938272</td>\n",
       "    </tr>\n",
       "    <tr>\n",
       "      <th>age_male_head</th>\n",
       "      <td>0.850000</td>\n",
       "      <td>0.059317</td>\n",
       "      <td>0.894737</td>\n",
       "    </tr>\n",
       "    <tr>\n",
       "      <th>age_male_thorax</th>\n",
       "      <td>0.883333</td>\n",
       "      <td>0.045134</td>\n",
       "      <td>0.918919</td>\n",
       "    </tr>\n",
       "    <tr>\n",
       "      <th>age_female_head</th>\n",
       "      <td>0.857143</td>\n",
       "      <td>0.044544</td>\n",
       "      <td>0.927536</td>\n",
       "    </tr>\n",
       "    <tr>\n",
       "      <th>age_female_thorax</th>\n",
       "      <td>0.915789</td>\n",
       "      <td>0.045898</td>\n",
       "      <td>0.929577</td>\n",
       "    </tr>\n",
       "  </tbody>\n",
       "</table>\n",
       "</div>"
      ],
      "text/plain": [
       "                   Accuracy Training  std accuracy training  Accuracy Test\n",
       "sex_head                    0.943750               0.023524       0.987500\n",
       "sex_thorax                  0.935385               0.027900       0.938272\n",
       "age_male_head               0.850000               0.059317       0.894737\n",
       "age_male_thorax             0.883333               0.045134       0.918919\n",
       "age_female_head             0.857143               0.044544       0.927536\n",
       "age_female_thorax           0.915789               0.045898       0.929577"
      ]
     },
     "execution_count": 90,
     "metadata": {},
     "output_type": "execute_result"
    }
   ],
   "source": [
    "# Accuracy table\n",
    "\n",
    "accuracy_complete = {\"sex_head\": [acc_sex_training_head, std_sex_training_head,\n",
    "                                  accuracy_score(y_hd_test, y_sex_head_pred)], \n",
    "\n",
    "                     'sex_thorax': [acc_sex_training_thorax,            std_sex_training_thorax,\n",
    "                                    accuracy_score(y_th_test, y_sex_thorax_pred)],\n",
    "\n",
    "                     \"age_male_head\": [acc_age_male_training_head,std_age_male_training_head,\n",
    "                                       accuracy_score(ym_hd_test,y_male_head_pred)], \n",
    "\n",
    "                     'age_male_thorax': [acc_age_male_training_thorax,std_age_male_training_thorax, accuracy_score(ym_th_test,y_male_thorax_pred)],\n",
    "\n",
    "                     \"age_female_head\": [acc_age_female_training_head,std_age_female_training_head, accuracy_score(yf_hd_test,y_female_head_pred)],\n",
    "\n",
    "                     'age_female_thorax': [acc_age_female_training_thorax,std_age_female_training_thorax, accuracy_score(yf_th_test,y_female_thorax_pred)]}\n",
    "\n",
    "pd.DataFrame.from_dict(accuracy_complete,orient='index', columns=['Accuracy Training', 'std accuracy training', 'Accuracy Test'])"
   ]
  }
 ],
 "metadata": {
  "kernelspec": {
   "display_name": ".tsetse_mirs",
   "language": "python",
   "name": "python3"
  },
  "language_info": {
   "codemirror_mode": {
    "name": "ipython",
    "version": 3
   },
   "file_extension": ".py",
   "mimetype": "text/x-python",
   "name": "python",
   "nbconvert_exporter": "python",
   "pygments_lexer": "ipython3",
   "version": "3.10.6"
  }
 },
 "nbformat": 4,
 "nbformat_minor": 2
}
