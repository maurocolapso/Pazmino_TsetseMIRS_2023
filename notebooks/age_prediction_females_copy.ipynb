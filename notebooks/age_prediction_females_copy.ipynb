{
 "cells": [
  {
   "attachments": {},
   "cell_type": "markdown",
   "metadata": {},
   "source": [
    "# Age prediction\n"
   ]
  },
  {
   "cell_type": "code",
   "execution_count": 1,
   "metadata": {},
   "outputs": [],
   "source": [
    "%load_ext autoreload\n",
    "%autoreload 2"
   ]
  },
  {
   "cell_type": "code",
   "execution_count": 2,
   "metadata": {},
   "outputs": [],
   "source": [
    "\n",
    "import sys\n",
    "\n",
    "import pandas as pd\n",
    "from sklearn.preprocessing import StandardScaler\n",
    "import seaborn as sn\n",
    "import matplotlib.pyplot as plt\n",
    "import numpy as np\n",
    "\n",
    "from sklearn.model_selection import train_test_split\n",
    "from sklearn.metrics import accuracy_score\n",
    "from sklearn.metrics import classification_report\n",
    "\n",
    "sys.path.append('../src')\n",
    "from utilities import baseline_accuracy\n",
    "from utilities import dataplotmelt\n",
    "from utilities import test_model\n",
    "\n",
    "from utilities import montecarlo_crossvalidation\n",
    "from utilities import model_optimization\n",
    "from utilities import gridsearch_bias"
   ]
  },
  {
   "cell_type": "code",
   "execution_count": 3,
   "metadata": {},
   "outputs": [],
   "source": [
    "colors = sn.color_palette(\"Set2\") "
   ]
  },
  {
   "cell_type": "code",
   "execution_count": 4,
   "metadata": {},
   "outputs": [
    {
     "data": {
      "text/html": [
       "<div>\n",
       "<style scoped>\n",
       "    .dataframe tbody tr th:only-of-type {\n",
       "        vertical-align: middle;\n",
       "    }\n",
       "\n",
       "    .dataframe tbody tr th {\n",
       "        vertical-align: top;\n",
       "    }\n",
       "\n",
       "    .dataframe thead th {\n",
       "        text-align: right;\n",
       "    }\n",
       "</style>\n",
       "<table border=\"1\" class=\"dataframe\">\n",
       "  <thead>\n",
       "    <tr style=\"text-align: right;\">\n",
       "      <th></th>\n",
       "      <th>Cat1</th>\n",
       "      <th>ID</th>\n",
       "      <th>Cat3</th>\n",
       "      <th>Cat4</th>\n",
       "      <th>Cat5</th>\n",
       "      <th>ID.1</th>\n",
       "      <th>4000</th>\n",
       "      <th>3998</th>\n",
       "      <th>3996</th>\n",
       "      <th>3994</th>\n",
       "      <th>...</th>\n",
       "      <th>420</th>\n",
       "      <th>418</th>\n",
       "      <th>416</th>\n",
       "      <th>414</th>\n",
       "      <th>412</th>\n",
       "      <th>410</th>\n",
       "      <th>408</th>\n",
       "      <th>406</th>\n",
       "      <th>404</th>\n",
       "      <th>402</th>\n",
       "    </tr>\n",
       "  </thead>\n",
       "  <tbody>\n",
       "    <tr>\n",
       "      <th>0</th>\n",
       "      <td>PLATE1</td>\n",
       "      <td>1</td>\n",
       "      <td>f</td>\n",
       "      <td>3d</td>\n",
       "      <td>A</td>\n",
       "      <td>20230124</td>\n",
       "      <td>0.00973</td>\n",
       "      <td>0.00981</td>\n",
       "      <td>0.00995</td>\n",
       "      <td>0.00992</td>\n",
       "      <td>...</td>\n",
       "      <td>0.31585</td>\n",
       "      <td>0.31551</td>\n",
       "      <td>0.31425</td>\n",
       "      <td>0.31425</td>\n",
       "      <td>0.31251</td>\n",
       "      <td>0.31266</td>\n",
       "      <td>0.31364</td>\n",
       "      <td>0.31226</td>\n",
       "      <td>0.30996</td>\n",
       "      <td>0.30855</td>\n",
       "    </tr>\n",
       "    <tr>\n",
       "      <th>1</th>\n",
       "      <td>PLATE1</td>\n",
       "      <td>1</td>\n",
       "      <td>f</td>\n",
       "      <td>3d</td>\n",
       "      <td>H</td>\n",
       "      <td>20230124</td>\n",
       "      <td>0.00914</td>\n",
       "      <td>0.00906</td>\n",
       "      <td>0.00905</td>\n",
       "      <td>0.00912</td>\n",
       "      <td>...</td>\n",
       "      <td>0.33684</td>\n",
       "      <td>0.33738</td>\n",
       "      <td>0.33571</td>\n",
       "      <td>0.33571</td>\n",
       "      <td>0.33280</td>\n",
       "      <td>0.33054</td>\n",
       "      <td>0.32989</td>\n",
       "      <td>0.33004</td>\n",
       "      <td>0.33029</td>\n",
       "      <td>0.32963</td>\n",
       "    </tr>\n",
       "    <tr>\n",
       "      <th>2</th>\n",
       "      <td>PLATE1</td>\n",
       "      <td>1</td>\n",
       "      <td>f</td>\n",
       "      <td>3d</td>\n",
       "      <td>T</td>\n",
       "      <td>20230124</td>\n",
       "      <td>0.01765</td>\n",
       "      <td>0.01756</td>\n",
       "      <td>0.01765</td>\n",
       "      <td>0.01776</td>\n",
       "      <td>...</td>\n",
       "      <td>0.34662</td>\n",
       "      <td>0.34480</td>\n",
       "      <td>0.33926</td>\n",
       "      <td>0.33926</td>\n",
       "      <td>0.33376</td>\n",
       "      <td>0.33243</td>\n",
       "      <td>0.33413</td>\n",
       "      <td>0.33486</td>\n",
       "      <td>0.33583</td>\n",
       "      <td>0.33807</td>\n",
       "    </tr>\n",
       "    <tr>\n",
       "      <th>3</th>\n",
       "      <td>PLATE1</td>\n",
       "      <td>2</td>\n",
       "      <td>f</td>\n",
       "      <td>3d</td>\n",
       "      <td>A</td>\n",
       "      <td>20230124</td>\n",
       "      <td>0.01030</td>\n",
       "      <td>0.01029</td>\n",
       "      <td>0.01027</td>\n",
       "      <td>0.01024</td>\n",
       "      <td>...</td>\n",
       "      <td>0.17542</td>\n",
       "      <td>0.17600</td>\n",
       "      <td>0.17609</td>\n",
       "      <td>0.17609</td>\n",
       "      <td>0.17532</td>\n",
       "      <td>0.17393</td>\n",
       "      <td>0.17268</td>\n",
       "      <td>0.17255</td>\n",
       "      <td>0.17383</td>\n",
       "      <td>0.17489</td>\n",
       "    </tr>\n",
       "    <tr>\n",
       "      <th>4</th>\n",
       "      <td>PLATE1</td>\n",
       "      <td>2</td>\n",
       "      <td>f</td>\n",
       "      <td>3d</td>\n",
       "      <td>H</td>\n",
       "      <td>20230124</td>\n",
       "      <td>0.01099</td>\n",
       "      <td>0.01084</td>\n",
       "      <td>0.01083</td>\n",
       "      <td>0.01083</td>\n",
       "      <td>...</td>\n",
       "      <td>0.29031</td>\n",
       "      <td>0.28997</td>\n",
       "      <td>0.28927</td>\n",
       "      <td>0.28927</td>\n",
       "      <td>0.28751</td>\n",
       "      <td>0.28568</td>\n",
       "      <td>0.28370</td>\n",
       "      <td>0.28182</td>\n",
       "      <td>0.28138</td>\n",
       "      <td>0.28206</td>\n",
       "    </tr>\n",
       "  </tbody>\n",
       "</table>\n",
       "<p>5 rows × 1806 columns</p>\n",
       "</div>"
      ],
      "text/plain": [
       "     Cat1  ID Cat3 Cat4 Cat5      ID.1     4000     3998     3996     3994  \\\n",
       "0  PLATE1   1    f   3d    A  20230124  0.00973  0.00981  0.00995  0.00992   \n",
       "1  PLATE1   1    f   3d    H  20230124  0.00914  0.00906  0.00905  0.00912   \n",
       "2  PLATE1   1    f   3d    T  20230124  0.01765  0.01756  0.01765  0.01776   \n",
       "3  PLATE1   2    f   3d    A  20230124  0.01030  0.01029  0.01027  0.01024   \n",
       "4  PLATE1   2    f   3d    H  20230124  0.01099  0.01084  0.01083  0.01083   \n",
       "\n",
       "   ...      420      418      416      414      412      410      408  \\\n",
       "0  ...  0.31585  0.31551  0.31425  0.31425  0.31251  0.31266  0.31364   \n",
       "1  ...  0.33684  0.33738  0.33571  0.33571  0.33280  0.33054  0.32989   \n",
       "2  ...  0.34662  0.34480  0.33926  0.33926  0.33376  0.33243  0.33413   \n",
       "3  ...  0.17542  0.17600  0.17609  0.17609  0.17532  0.17393  0.17268   \n",
       "4  ...  0.29031  0.28997  0.28927  0.28927  0.28751  0.28568  0.28370   \n",
       "\n",
       "       406      404      402  \n",
       "0  0.31226  0.30996  0.30855  \n",
       "1  0.33004  0.33029  0.32963  \n",
       "2  0.33486  0.33583  0.33807  \n",
       "3  0.17255  0.17383  0.17489  \n",
       "4  0.28182  0.28138  0.28206  \n",
       "\n",
       "[5 rows x 1806 columns]"
      ]
     },
     "execution_count": 4,
     "metadata": {},
     "output_type": "execute_result"
    }
   ],
   "source": [
    "tsetse_data = pd.read_csv(\"../data/raw/TseTse_finaldatasetclean.csv\")\n",
    "tsetse_data.head()"
   ]
  },
  {
   "cell_type": "code",
   "execution_count": 5,
   "metadata": {},
   "outputs": [],
   "source": [
    "\n",
    "tsetse_data.rename(columns={\"Cat1\":\"Plate\", \"Cat3\":\"Sex\", \"Cat4\":\"Age\", \"Cat5\":\"Tissue\"}, inplace=True)\n",
    "tsetse_data['Tissue'] = tsetse_data['Tissue'].str.replace(\"T\", 'Thorax')\n",
    "tsetse_data['Tissue'] = tsetse_data['Tissue'].str.replace(\"H\", 'Head')\n",
    "tsetse_data['Tissue'] = tsetse_data['Tissue'].str.replace(\"A\", 'Abdomen')"
   ]
  },
  {
   "cell_type": "code",
   "execution_count": 6,
   "metadata": {},
   "outputs": [],
   "source": [
    "tsetse_data_copy = tsetse_data.copy()"
   ]
  },
  {
   "cell_type": "code",
   "execution_count": 7,
   "metadata": {},
   "outputs": [],
   "source": [
    "tsetse_females_thorax = tsetse_data_copy.loc[(tsetse_data_copy['Sex'] == 'f') & (tsetse_data_copy['Tissue'] == 'Thorax')]\n",
    "\n",
    "tsetse_females_head = tsetse_data_copy.loc[(tsetse_data_copy['Sex'] == 'f') & (tsetse_data_copy['Tissue'] == 'Head')]"
   ]
  },
  {
   "cell_type": "code",
   "execution_count": 8,
   "metadata": {},
   "outputs": [
    {
     "data": {
      "text/plain": [
       "Age\n",
       "3d    136\n",
       "5w     96\n",
       "7w    122\n",
       "Name: ID, dtype: int64"
      ]
     },
     "execution_count": 8,
     "metadata": {},
     "output_type": "execute_result"
    }
   ],
   "source": [
    "tsetse_females_thorax.groupby(\"Age\")[\"ID\"].count()"
   ]
  },
  {
   "cell_type": "code",
   "execution_count": 9,
   "metadata": {},
   "outputs": [
    {
     "data": {
      "text/plain": [
       "Age\n",
       "3d    133\n",
       "5w     92\n",
       "7w    120\n",
       "Name: ID, dtype: int64"
      ]
     },
     "execution_count": 9,
     "metadata": {},
     "output_type": "execute_result"
    }
   ],
   "source": [
    "tsetse_females_head.groupby(\"Age\")[\"ID\"].count()"
   ]
  },
  {
   "cell_type": "code",
   "execution_count": 10,
   "metadata": {},
   "outputs": [],
   "source": [
    "tsetse_females_thorax_copy = tsetse_females_thorax.copy()\n",
    "tsetse_females_head_copy = tsetse_females_head.copy()"
   ]
  },
  {
   "attachments": {},
   "cell_type": "markdown",
   "metadata": {},
   "source": [
    "## Age prediction females"
   ]
  },
  {
   "cell_type": "code",
   "execution_count": 11,
   "metadata": {},
   "outputs": [],
   "source": [
    "X_thorax = tsetse_females_thorax_copy.loc[:,\"4000\":\"402\"]\n",
    "y_thorax = tsetse_females_thorax_copy.loc[:,\"Age\"]\n",
    "\n",
    "X_head = tsetse_females_head_copy.loc[:,\"4000\":\"402\"]\n",
    "y_head = tsetse_females_head_copy.loc[:,\"Age\"]"
   ]
  },
  {
   "cell_type": "code",
   "execution_count": 12,
   "metadata": {},
   "outputs": [],
   "source": [
    "waveNumslist_reduced = X_thorax.columns.values.tolist()\n",
    "wavenumbers_reduced = [int(x) for x in waveNumslist_reduced]"
   ]
  },
  {
   "attachments": {},
   "cell_type": "markdown",
   "metadata": {},
   "source": [
    "## Biased test"
   ]
  },
  {
   "cell_type": "code",
   "execution_count": 13,
   "metadata": {},
   "outputs": [],
   "source": [
    "X_head_part1 = tsetse_females_head.loc[:,\"4000\":\"402\"]\n",
    "X_head_part2 = tsetse_females_head.loc[:,\"1800\":\"600\"]\n",
    "X_head_part3 = tsetse_females_head.loc[:,\"3500\":\"2750\"]\n",
    "X_head_part4 = tsetse_females_head.loc[:,\"2750\":\"1800\"]\n",
    "\n",
    "X_head_desbiased = pd.concat([X_head_part3,X_head_part2],axis=1)\n",
    "\n",
    "\n",
    "y_head = tsetse_females_head.loc[:,\"Age\"]"
   ]
  },
  {
   "cell_type": "code",
   "execution_count": 14,
   "metadata": {},
   "outputs": [],
   "source": [
    "\n",
    "bias_test_head_part1 = gridsearch_bias(X_head_part1, y_head)\n",
    "bias_test_head_part2 = gridsearch_bias(X_head_part2, y_head)\n",
    "bias_test_head_part3 = gridsearch_bias(X_head_part3, y_head)\n",
    "bias_test_head_part4 = gridsearch_bias(X_head_part4, y_head)\n",
    "bias_test_head_part5 = gridsearch_bias(X_head_desbiased, y_head)"
   ]
  },
  {
   "cell_type": "code",
   "execution_count": 15,
   "metadata": {},
   "outputs": [],
   "source": [
    "result = pd.concat([bias_test_head_part1, \n",
    "    bias_test_head_part2['mean_test_score'],\n",
    "    bias_test_head_part3['mean_test_score'],\n",
    "    bias_test_head_part4['mean_test_score'],\n",
    "    bias_test_head_part5['mean_test_score']], axis=1)\n",
    "\n",
    "result[\"Tissue\"] = \"Head\""
   ]
  },
  {
   "cell_type": "code",
   "execution_count": 16,
   "metadata": {},
   "outputs": [],
   "source": [
    "# Thorax\n",
    "\n",
    "X_thorax_part1 = tsetse_females_thorax.loc[:,\"4000\":\"402\"]\n",
    "X_thorax_part2 = tsetse_females_thorax.loc[:,\"1800\":\"600\"]\n",
    "X_thorax_part3 = tsetse_females_thorax.loc[:,\"3500\":\"2750\"]\n",
    "X_thorax_part4 = tsetse_females_thorax.loc[:,\"2750\":\"1800\"]\n",
    "\n",
    "X_thorax_desbiased = pd.concat([X_thorax_part3,X_thorax_part2],axis=1)\n",
    "\n",
    "y_thorax = tsetse_females_thorax.loc[:,\"Age\"]\n"
   ]
  },
  {
   "cell_type": "code",
   "execution_count": 17,
   "metadata": {},
   "outputs": [],
   "source": [
    "# thorax\n",
    "bias_test_part1 = gridsearch_bias(X_thorax_part1,y_thorax)\n",
    "bias_test_part2 = gridsearch_bias(X_thorax_part2,y_thorax)\n",
    "bias_test_part3 = gridsearch_bias(X_thorax_part3,y_thorax)\n",
    "bias_test_part4 = gridsearch_bias(X_thorax_part4,y_thorax)\n",
    "bias_test_part5 = gridsearch_bias(X_thorax_desbiased,y_thorax)"
   ]
  },
  {
   "cell_type": "code",
   "execution_count": 18,
   "metadata": {},
   "outputs": [],
   "source": [
    "result2 = pd.concat([bias_test_part1, bias_test_part2['mean_test_score'],bias_test_part3['mean_test_score'],bias_test_part4['mean_test_score'],bias_test_part5['mean_test_score']], axis=1)\n",
    "result2[\"Tissue\"] = \"Thorax\""
   ]
  },
  {
   "cell_type": "code",
   "execution_count": 19,
   "metadata": {},
   "outputs": [],
   "source": [
    "bias_agemales = pd.concat([result2, result])\n",
    "bias_agemales.set_index(\"Tissue\", inplace=True)\n",
    "\n",
    "bias_agemales.columns = [\"Model\", \"kernel\",\"D1\",\"D2\",\"D3\",\"D4\",\"D5\"]\n",
    "bias_agemales\n",
    "\n",
    "bias_agemales.to_excel(\"../results/tables/wholespectra_results/biased_agefemales_pred.xlsx\")"
   ]
  },
  {
   "cell_type": "code",
   "execution_count": 22,
   "metadata": {},
   "outputs": [],
   "source": [
    "# permutation test\n",
    "\n",
    "from sklearn.linear_model import LogisticRegression\n",
    "from sklearn.model_selection import StratifiedKFold\n",
    "from sklearn.model_selection import permutation_test_score\n",
    "\n",
    "clf = LogisticRegression(max_iter=10000, random_state=7)\n",
    "cv = StratifiedKFold(2, shuffle=True, random_state=0)\n",
    "\n",
    "score_iris, perm_scores_iris, pvalue_iris = permutation_test_score(\n",
    "    clf, X_thorax, y_thorax, scoring=\"accuracy\", cv=cv, n_permutations=1000)\n",
    "\n"
   ]
  },
  {
   "cell_type": "code",
   "execution_count": 24,
   "metadata": {},
   "outputs": [
    {
     "data": {
      "image/png": "[encoded data removed]",
      "text/plain": [
       "<Figure size 300x300 with 1 Axes>"
      ]
     },
     "metadata": {},
     "output_type": "display_data"
    }
   ],
   "source": [
    "fig, ax = plt.subplots(figsize=(3,3))\n",
    "\n",
    "ax.hist(perm_scores_iris, bins=20, density=True,color='g')\n",
    "ax.axvline(score_iris, ls=\"--\", color=\"r\")\n",
    "score_label = f\"p-value: {pvalue_iris:.3f}\"\n",
    "ax.text(0.1, 15, score_label, fontsize=10)\n",
    "ax.set_xlabel(\"Accuracy score\")\n",
    "ax.set_ylabel(\"Probability\")\n",
    "ax.set_xlim(0,1)\n",
    "ax.set_ylim(0,17)\n",
    "\n",
    "plt.savefig(\"../results/plots/permutationtest_age_females.png\", dpi=300, bbox_inches='tight')"
   ]
  },
  {
   "attachments": {},
   "cell_type": "markdown",
   "metadata": {},
   "source": [
    "# Age prediction females using the whole spectra"
   ]
  },
  {
   "cell_type": "code",
   "execution_count": 20,
   "metadata": {},
   "outputs": [],
   "source": [
    "X_th_train, X_th_test, y_th_train, y_th_test = train_test_split(X_thorax, y_thorax, test_size=0.2, shuffle=True, random_state=123)\n",
    "\n",
    "X_hd_train, X_hd_test, y_hd_train, y_hd_test = train_test_split(X_head, y_head, test_size=0.2, shuffle=True, random_state=123)"
   ]
  },
  {
   "cell_type": "code",
   "execution_count": 21,
   "metadata": {},
   "outputs": [],
   "source": [
    "waveNumslist = X_head.columns.values.tolist()\n",
    "wavenumbers = [int(x) for x in waveNumslist]"
   ]
  },
  {
   "cell_type": "code",
   "execution_count": 22,
   "metadata": {},
   "outputs": [],
   "source": [
    "shape_data = {\"train_head\": y_hd_train.value_counts(),\n",
    "              \"train_thorax\": y_th_train.value_counts(),\n",
    "              \"test_head\": y_hd_test.value_counts(),\n",
    "              \"test_thorax\":y_th_test.value_counts()}\n",
    "shape_data_df = pd.DataFrame(shape_data)\n",
    "\n",
    "shape_data_df\n",
    "shape_data_df.to_excel(\"../results/tables/wholespectra_results/train_test_shape_age_females.xlsx\")\n"
   ]
  },
  {
   "cell_type": "code",
   "execution_count": 23,
   "metadata": {},
   "outputs": [
    {
     "name": "stdout",
     "output_type": "stream",
     "text": [
      "Fitting 10 folds for each of 4 candidates, totalling 40 fits\n"
     ]
    },
    {
     "name": "stdout",
     "output_type": "stream",
     "text": [
      "Fitting 10 folds for each of 4 candidates, totalling 40 fits\n"
     ]
    }
   ],
   "source": [
    "females_thorax_acc_baseline = baseline_accuracy(X_th_train, y_th_train)\n",
    "females_head_acc_baseline = baseline_accuracy(X_hd_train,y_hd_train)"
   ]
  },
  {
   "cell_type": "code",
   "execution_count": 24,
   "metadata": {},
   "outputs": [],
   "source": [
    "data_plot_thorax = dataplotmelt(females_thorax_acc_baseline)\n",
    "data_plot_head = dataplotmelt(females_head_acc_baseline)"
   ]
  },
  {
   "cell_type": "code",
   "execution_count": 25,
   "metadata": {},
   "outputs": [
    {
     "name": "stdout",
     "output_type": "stream",
     "text": [
      "  param_clf     value          \n",
      "                 mean       std\n",
      "0      CART  0.669643  0.091151\n",
      "1        LR  0.857143  0.044544\n",
      "2        RF  0.742857  0.050648\n",
      "3       SVC  0.757143  0.049943\n"
     ]
    }
   ],
   "source": [
    "output=data_plot_head.groupby(['param_clf'], as_index=False).agg({'value':['mean', 'std']})\n",
    "print(output)"
   ]
  },
  {
   "cell_type": "code",
   "execution_count": 26,
   "metadata": {},
   "outputs": [
    {
     "name": "stdout",
     "output_type": "stream",
     "text": [
      "  param_clf     value          \n",
      "                 mean       std\n",
      "0      CART  0.684211  0.068198\n",
      "1        LR  0.915789  0.045898\n",
      "2        RF  0.731579  0.074913\n",
      "3       SVC  0.712281  0.066779\n"
     ]
    }
   ],
   "source": [
    "output=data_plot_thorax.groupby(['param_clf'], as_index=False).agg({'value':['mean', 'std']})\n",
    "print(output)"
   ]
  },
  {
   "cell_type": "code",
   "execution_count": 27,
   "metadata": {},
   "outputs": [
    {
     "name": "stdout",
     "output_type": "stream",
     "text": [
      "Best model parameters{'model__C': 100, 'model__penalty': 'l2', 'model__solver': 'newton-cg'}\n"
     ]
    }
   ],
   "source": [
    "# model optimization\n",
    "\n",
    "# Head\n",
    "best_model_head = model_optimization(X_hd_train,y_hd_train)"
   ]
  },
  {
   "cell_type": "code",
   "execution_count": 28,
   "metadata": {},
   "outputs": [
    {
     "name": "stdout",
     "output_type": "stream",
     "text": [
      "Best model parameters{'model__C': 100, 'model__penalty': 'l2', 'model__solver': 'liblinear'}\n"
     ]
    }
   ],
   "source": [
    "# thorax\n",
    "best_mdoel_thorax = model_optimization(X_th_train, y_th_train)"
   ]
  },
  {
   "cell_type": "code",
   "execution_count": 29,
   "metadata": {},
   "outputs": [],
   "source": [
    "# test head\n",
    "\n",
    "y_head_pred, y_head_prob, pipe_head = test_model(X_hd_train, X_hd_test, y_hd_train, best_model_head)\n",
    "y_thorax_pred, y_thorax_prob, pipe_thorax = test_model(X_th_train, X_th_test, y_th_train, best_mdoel_thorax)"
   ]
  },
  {
   "cell_type": "code",
   "execution_count": 30,
   "metadata": {},
   "outputs": [
    {
     "name": "stdout",
     "output_type": "stream",
     "text": [
      "Accuracy on test set: 0.927536231884058\n",
      "Accuracy on test set: 0.9295774647887324\n"
     ]
    }
   ],
   "source": [
    "accuracy_head = accuracy_score(y_hd_test, y_head_pred)\n",
    "accuracy_thorax = accuracy_score(y_th_test, y_thorax_pred)\n",
    "print(f\"Accuracy on test set: {accuracy_head}\")\n",
    "print(f\"Accuracy on test set: {accuracy_thorax}\")"
   ]
  },
  {
   "cell_type": "code",
   "execution_count": 31,
   "metadata": {},
   "outputs": [
    {
     "data": {
      "text/html": [
       "<div>\n",
       "<style scoped>\n",
       "    .dataframe tbody tr th:only-of-type {\n",
       "        vertical-align: middle;\n",
       "    }\n",
       "\n",
       "    .dataframe tbody tr th {\n",
       "        vertical-align: top;\n",
       "    }\n",
       "\n",
       "    .dataframe thead th {\n",
       "        text-align: right;\n",
       "    }\n",
       "</style>\n",
       "<table border=\"1\" class=\"dataframe\">\n",
       "  <thead>\n",
       "    <tr style=\"text-align: right;\">\n",
       "      <th></th>\n",
       "      <th>precision</th>\n",
       "      <th>recall</th>\n",
       "      <th>f1-score</th>\n",
       "      <th>support</th>\n",
       "      <th>Tissue</th>\n",
       "    </tr>\n",
       "  </thead>\n",
       "  <tbody>\n",
       "    <tr>\n",
       "      <th>3d</th>\n",
       "      <td>0.827586</td>\n",
       "      <td>1.000000</td>\n",
       "      <td>0.905660</td>\n",
       "      <td>24.000000</td>\n",
       "      <td>Head</td>\n",
       "    </tr>\n",
       "    <tr>\n",
       "      <th>5w</th>\n",
       "      <td>1.000000</td>\n",
       "      <td>0.894737</td>\n",
       "      <td>0.944444</td>\n",
       "      <td>19.000000</td>\n",
       "      <td>Head</td>\n",
       "    </tr>\n",
       "    <tr>\n",
       "      <th>7w</th>\n",
       "      <td>1.000000</td>\n",
       "      <td>0.884615</td>\n",
       "      <td>0.938776</td>\n",
       "      <td>26.000000</td>\n",
       "      <td>Head</td>\n",
       "    </tr>\n",
       "    <tr>\n",
       "      <th>accuracy</th>\n",
       "      <td>0.927536</td>\n",
       "      <td>0.927536</td>\n",
       "      <td>0.927536</td>\n",
       "      <td>0.927536</td>\n",
       "      <td>Head</td>\n",
       "    </tr>\n",
       "    <tr>\n",
       "      <th>macro avg</th>\n",
       "      <td>0.942529</td>\n",
       "      <td>0.926451</td>\n",
       "      <td>0.929627</td>\n",
       "      <td>69.000000</td>\n",
       "      <td>Head</td>\n",
       "    </tr>\n",
       "    <tr>\n",
       "      <th>weighted avg</th>\n",
       "      <td>0.940030</td>\n",
       "      <td>0.927536</td>\n",
       "      <td>0.928818</td>\n",
       "      <td>69.000000</td>\n",
       "      <td>Head</td>\n",
       "    </tr>\n",
       "  </tbody>\n",
       "</table>\n",
       "</div>"
      ],
      "text/plain": [
       "              precision    recall  f1-score    support Tissue\n",
       "3d             0.827586  1.000000  0.905660  24.000000   Head\n",
       "5w             1.000000  0.894737  0.944444  19.000000   Head\n",
       "7w             1.000000  0.884615  0.938776  26.000000   Head\n",
       "accuracy       0.927536  0.927536  0.927536   0.927536   Head\n",
       "macro avg      0.942529  0.926451  0.929627  69.000000   Head\n",
       "weighted avg   0.940030  0.927536  0.928818  69.000000   Head"
      ]
     },
     "execution_count": 31,
     "metadata": {},
     "output_type": "execute_result"
    }
   ],
   "source": [
    "report_head = classification_report(y_hd_test, y_head_pred, output_dict=True)\n",
    "report_head = pd.DataFrame(report_head).transpose()\n",
    "report_head[\"Tissue\"] = \"Head\"\n",
    "report_head"
   ]
  },
  {
   "cell_type": "code",
   "execution_count": 32,
   "metadata": {},
   "outputs": [
    {
     "data": {
      "text/html": [
       "<div>\n",
       "<style scoped>\n",
       "    .dataframe tbody tr th:only-of-type {\n",
       "        vertical-align: middle;\n",
       "    }\n",
       "\n",
       "    .dataframe tbody tr th {\n",
       "        vertical-align: top;\n",
       "    }\n",
       "\n",
       "    .dataframe thead th {\n",
       "        text-align: right;\n",
       "    }\n",
       "</style>\n",
       "<table border=\"1\" class=\"dataframe\">\n",
       "  <thead>\n",
       "    <tr style=\"text-align: right;\">\n",
       "      <th></th>\n",
       "      <th>precision</th>\n",
       "      <th>recall</th>\n",
       "      <th>f1-score</th>\n",
       "      <th>support</th>\n",
       "      <th>Tissue</th>\n",
       "    </tr>\n",
       "  </thead>\n",
       "  <tbody>\n",
       "    <tr>\n",
       "      <th>3d</th>\n",
       "      <td>0.954545</td>\n",
       "      <td>0.954545</td>\n",
       "      <td>0.954545</td>\n",
       "      <td>22.000000</td>\n",
       "      <td>Thorax</td>\n",
       "    </tr>\n",
       "    <tr>\n",
       "      <th>5w</th>\n",
       "      <td>0.956522</td>\n",
       "      <td>0.880000</td>\n",
       "      <td>0.916667</td>\n",
       "      <td>25.000000</td>\n",
       "      <td>Thorax</td>\n",
       "    </tr>\n",
       "    <tr>\n",
       "      <th>7w</th>\n",
       "      <td>0.884615</td>\n",
       "      <td>0.958333</td>\n",
       "      <td>0.920000</td>\n",
       "      <td>24.000000</td>\n",
       "      <td>Thorax</td>\n",
       "    </tr>\n",
       "    <tr>\n",
       "      <th>accuracy</th>\n",
       "      <td>0.929577</td>\n",
       "      <td>0.929577</td>\n",
       "      <td>0.929577</td>\n",
       "      <td>0.929577</td>\n",
       "      <td>Thorax</td>\n",
       "    </tr>\n",
       "    <tr>\n",
       "      <th>macro avg</th>\n",
       "      <td>0.931894</td>\n",
       "      <td>0.930960</td>\n",
       "      <td>0.930404</td>\n",
       "      <td>71.000000</td>\n",
       "      <td>Thorax</td>\n",
       "    </tr>\n",
       "    <tr>\n",
       "      <th>weighted avg</th>\n",
       "      <td>0.931603</td>\n",
       "      <td>0.929577</td>\n",
       "      <td>0.929531</td>\n",
       "      <td>71.000000</td>\n",
       "      <td>Thorax</td>\n",
       "    </tr>\n",
       "  </tbody>\n",
       "</table>\n",
       "</div>"
      ],
      "text/plain": [
       "              precision    recall  f1-score    support  Tissue\n",
       "3d             0.954545  0.954545  0.954545  22.000000  Thorax\n",
       "5w             0.956522  0.880000  0.916667  25.000000  Thorax\n",
       "7w             0.884615  0.958333  0.920000  24.000000  Thorax\n",
       "accuracy       0.929577  0.929577  0.929577   0.929577  Thorax\n",
       "macro avg      0.931894  0.930960  0.930404  71.000000  Thorax\n",
       "weighted avg   0.931603  0.929577  0.929531  71.000000  Thorax"
      ]
     },
     "execution_count": 32,
     "metadata": {},
     "output_type": "execute_result"
    }
   ],
   "source": [
    "report_thorax = classification_report(y_th_test, y_thorax_pred, output_dict=True)\n",
    "report_thorax = pd.DataFrame(report_thorax).transpose()\n",
    "report_thorax[\"Tissue\"] = \"Thorax\"\n",
    "report_thorax"
   ]
  },
  {
   "cell_type": "code",
   "execution_count": 33,
   "metadata": {},
   "outputs": [],
   "source": [
    "report_agefemales_prediction = pd.concat([report_head, report_thorax])\n",
    "\n",
    "report_agefemales_prediction.to_excel(\"../results/tables/wholespectra_results/Accuracy_agefemales_report.xlsx\")"
   ]
  },
  {
   "cell_type": "code",
   "execution_count": 36,
   "metadata": {},
   "outputs": [
    {
     "name": "stderr",
     "output_type": "stream",
     "text": [
      "shuffle split:   0%|          | 0/100 [00:00<?, ?it/s]"
     ]
    },
    {
     "name": "stderr",
     "output_type": "stream",
     "text": [
      "shuffle split: 100%|██████████| 100/100 [00:46<00:00,  2.15it/s]"
     ]
    },
    {
     "name": "stdout",
     "output_type": "stream",
     "text": [
      "Model perfomance using monte carlo cross-validation\n",
      "Mean accuracy = 0.90 ± 0.03\n"
     ]
    },
    {
     "name": "stderr",
     "output_type": "stream",
     "text": [
      "\n"
     ]
    }
   ],
   "source": [
    "# monte carlo cross validation\n",
    "\n",
    "accuracy_head_mc, sensitivity_head_mc, specificity_head_mc = montecarlo_crossvalidation(X_head, y_head, best_model_head, binary=False)"
   ]
  },
  {
   "cell_type": "code",
   "execution_count": 37,
   "metadata": {},
   "outputs": [
    {
     "name": "stderr",
     "output_type": "stream",
     "text": [
      "shuffle split: 100%|██████████| 100/100 [00:46<00:00,  2.17it/s]"
     ]
    },
    {
     "name": "stdout",
     "output_type": "stream",
     "text": [
      "Model perfomance using monte carlo cross-validation\n",
      "Mean accuracy = 0.92 ± 0.03\n"
     ]
    },
    {
     "name": "stderr",
     "output_type": "stream",
     "text": [
      "\n"
     ]
    }
   ],
   "source": [
    "accuracy_thorax_mc, sensitivity_thorax_mc, specificity_thorax_mc = montecarlo_crossvalidation(X_thorax, y_thorax, best_mdoel_thorax, binary=False)"
   ]
  },
  {
   "cell_type": "code",
   "execution_count": 45,
   "metadata": {},
   "outputs": [
    {
     "data": {
      "image/png": "[encoded data removed]",
      "text/plain": [
       "<Figure size 1000x400 with 2 Axes>"
      ]
     },
     "metadata": {},
     "output_type": "display_data"
    }
   ],
   "source": [
    "# coefficients\n",
    "\n",
    "sn.set(font_scale=1.2)\n",
    "sn.set_palette(\"bright\", color_codes=True)\n",
    "sn.set_style('ticks')\n",
    "\n",
    "fig, (ax,ax2) = plt.subplots(1,2,figsize=(10,4), tight_layout=True)\n",
    "coef = best_model_head['model'].coef_[0]\n",
    "\n",
    "#boxplot\n",
    "sn.boxplot(data=data_plot_head, x='param_clf', y='value', ax=ax, color='white')\n",
    "sn.stripplot(data=data_plot_head, x='param_clf', y='value', ax=ax, size=10, alpha=0.5, hue='param_clf', legend=False)\n",
    "plt.setp(ax.lines, color='k')\n",
    "ax.axhline(0.3, ls='--', color='r')\n",
    "for l, box in enumerate(ax.patches):\n",
    "    box.set_edgecolor(\"black\")\n",
    "\n",
    "ax.set_ylabel(\"Accuracy\")\n",
    "ax.set_xlabel(\"Models\")\n",
    "ax.set_ylim(0.2,1)\n",
    "\n",
    "\n",
    "#coefficients\n",
    "sn.lineplot(x=wavenumbers_reduced, y=coef,ax=ax2, linewidth=0.7)\n",
    "sn.lineplot(x=wavenumbers_reduced, y=(np.mean(X_head ,axis=0)*9),color='k',ax=ax2, linewidth=0.7)\n",
    "ax2.axhline(0, ls=\"--\", color='k')\n",
    "ax2.set_xlim(4000, 400)\n",
    "ax2.set_ylabel(\"Coefficients\")\n",
    "ax2.set_xlabel(\"Wavenumbers (cm${-1}$)\")\n",
    "\n",
    "plots1 = [ax,ax2]\n",
    "letters = [\"A\", \"B\", \"C\", \"D\", \"E\", \"F\"]\n",
    "\n",
    "#for p, t in zip(plots1, letters):\n",
    "#    p.set_title(t, loc=\"left\", weight='bold', fontsize=20)\n",
    "\n",
    "plt.savefig(\"../results/plots/age_prediction_females_figure4.png\", dpi=900)"
   ]
  }
 ],
 "metadata": {
  "kernelspec": {
   "display_name": ".tsetse_mirs",
   "language": "python",
   "name": "python3"
  },
  "language_info": {
   "codemirror_mode": {
    "name": "ipython",
    "version": 3
   },
   "file_extension": ".py",
   "mimetype": "text/x-python",
   "name": "python",
   "nbconvert_exporter": "python",
   "pygments_lexer": "ipython3",
   "version": "3.10.6"
  },
  "orig_nbformat": 4
 },
 "nbformat": 4,
 "nbformat_minor": 2
}
