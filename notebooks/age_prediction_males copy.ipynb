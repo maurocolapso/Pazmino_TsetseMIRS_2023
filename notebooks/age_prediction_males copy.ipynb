{
 "cells": [
  {
   "attachments": {},
   "cell_type": "markdown",
   "metadata": {},
   "source": [
    "# Age prediction males with whole spectra\n",
    "\n",
    "Final jupyter notebook for age prediction using infrared spectrosocpy data from tsetse males\n",
    "\n",
    "## Changelog\n",
    "\n",
    "### 2023-11-03\n",
    "\n",
    "#### Modified\n",
    "\n",
    "- Deleted non-used code\n",
    "- Plots have been renamed\n",
    "- It is ready"
   ]
  },
  {
   "cell_type": "code",
   "execution_count": 1,
   "metadata": {},
   "outputs": [],
   "source": [
    "%load_ext autoreload\n",
    "%autoreload 2"
   ]
  },
  {
   "cell_type": "code",
   "execution_count": 2,
   "metadata": {},
   "outputs": [],
   "source": [
    "\n",
    "import sys\n",
    "\n",
    "import pandas as pd\n",
    "\n",
    "import seaborn as sn\n",
    "import matplotlib.pyplot as plt\n",
    "import numpy as np\n",
    "\n",
    "\n",
    "from sklearn.model_selection import train_test_split\n",
    "from sklearn.metrics import accuracy_score\n",
    "from sklearn.metrics import ConfusionMatrixDisplay\n",
    "from sklearn.metrics import classification_report\n",
    "\n",
    "from sklearn.metrics import RocCurveDisplay\n",
    "\n",
    "from sklearn.metrics import roc_auc_score\n",
    "\n",
    "\n",
    "sys.path.append('../src')\n",
    "from utilities import baseline_accuracy\n",
    "from utilities import dataplotmelt\n",
    "from utilities import test_model\n",
    "from utilities import montecarlo_crossvalidation\n",
    "from utilities import model_optimization\n",
    "from utilities import variable_importance_df\n",
    "from utilities import gridsearch_bias"
   ]
  },
  {
   "cell_type": "code",
   "execution_count": 3,
   "metadata": {},
   "outputs": [],
   "source": [
    "colors = sn.color_palette(\"Set2\") "
   ]
  },
  {
   "cell_type": "code",
   "execution_count": 4,
   "metadata": {},
   "outputs": [],
   "source": [
    "tsetse_data = pd.read_csv(\"../data/raw/TseTse_finaldatasetclean.csv\")\n",
    "tsetse_data.rename(columns={\"Cat1\":\"Plate\", \"Cat3\":\"Sex\", \"Cat4\":\"Age\", \"Cat5\":\"Tissue\"}, inplace=True)\n",
    "tsetse_data['Tissue'] = tsetse_data['Tissue'].str.replace(\"T\", 'Thorax')\n",
    "tsetse_data['Tissue'] = tsetse_data['Tissue'].str.replace(\"H\", 'Head')\n",
    "tsetse_data['Tissue'] = tsetse_data['Tissue'].str.replace(\"A\", 'Abdomen')"
   ]
  },
  {
   "cell_type": "code",
   "execution_count": 5,
   "metadata": {},
   "outputs": [],
   "source": [
    "tsetse_data_copy = tsetse_data.copy()"
   ]
  },
  {
   "cell_type": "code",
   "execution_count": 6,
   "metadata": {},
   "outputs": [],
   "source": [
    "tsetse_males_thorax = tsetse_data_copy.loc[(tsetse_data_copy['Sex'] == 'm') & (tsetse_data_copy['Tissue'] == 'Thorax')]\n",
    "\n",
    "tsetse_males_head = tsetse_data_copy.loc[(tsetse_data_copy['Sex'] == 'm') & (tsetse_data_copy['Tissue'] == 'Head')]"
   ]
  },
  {
   "cell_type": "code",
   "execution_count": 7,
   "metadata": {},
   "outputs": [
    {
     "data": {
      "text/plain": [
       "Age\n",
       "5w    93\n",
       "7w    92\n",
       "Name: ID, dtype: int64"
      ]
     },
     "execution_count": 7,
     "metadata": {},
     "output_type": "execute_result"
    }
   ],
   "source": [
    "tsetse_males_thorax.groupby(\"Age\")[\"ID\"].count()"
   ]
  },
  {
   "cell_type": "code",
   "execution_count": 8,
   "metadata": {},
   "outputs": [
    {
     "data": {
      "text/plain": [
       "Age\n",
       "5w    94\n",
       "7w    93\n",
       "Name: ID, dtype: int64"
      ]
     },
     "execution_count": 8,
     "metadata": {},
     "output_type": "execute_result"
    }
   ],
   "source": [
    "tsetse_males_head.groupby(\"Age\")[\"ID\"].count()"
   ]
  },
  {
   "cell_type": "code",
   "execution_count": 9,
   "metadata": {},
   "outputs": [],
   "source": [
    "tsetse_males_thorax_copy = tsetse_males_thorax.copy()\n",
    "tsetse_males_head_copy = tsetse_males_head.copy()"
   ]
  },
  {
   "attachments": {},
   "cell_type": "markdown",
   "metadata": {},
   "source": [
    "## Age prediction males"
   ]
  },
  {
   "cell_type": "code",
   "execution_count": 12,
   "metadata": {},
   "outputs": [],
   "source": [
    "# Thorax\n",
    "\n",
    "X_thorax_part1 = tsetse_males_thorax.loc[:,\"4000\":\"402\"]\n",
    "X_thorax_part2 = tsetse_males_thorax.loc[:,\"1800\":\"600\"]\n",
    "X_thorax_part3 = tsetse_males_thorax.loc[:,\"3500\":\"2750\"]\n",
    "X_thorax_part4 = tsetse_males_thorax.loc[:,\"2750\":\"1800\"]\n",
    "\n",
    "X_thorax_desbiased = pd.concat([X_thorax_part3,X_thorax_part2],axis=1)\n",
    "\n",
    "y_thorax = tsetse_males_thorax.loc[:,\"Age\"]\n",
    "\n"
   ]
  },
  {
   "cell_type": "code",
   "execution_count": 14,
   "metadata": {},
   "outputs": [],
   "source": [
    "# head\n",
    "\n",
    "X_head_part1 = tsetse_males_head.loc[:,\"4000\":\"402\"]\n",
    "X_head_part2 = tsetse_males_head.loc[:,\"1800\":\"600\"]\n",
    "X_head_part3 = tsetse_males_head.loc[:,\"3500\":\"2750\"]\n",
    "X_head_part4 = tsetse_males_head.loc[:,\"2750\":\"1800\"]\n",
    "\n",
    "X_head_desbiased = pd.concat([X_head_part3,X_head_part2],axis=1)\n",
    "\n",
    "\n",
    "y_head = tsetse_males_head.loc[:,\"Age\"]"
   ]
  },
  {
   "cell_type": "code",
   "execution_count": 15,
   "metadata": {},
   "outputs": [],
   "source": [
    "# thorax\n",
    "bias_test_part1 = gridsearch_bias(X_thorax_part1,y_thorax)\n",
    "bias_test_part2 = gridsearch_bias(X_thorax_part2,y_thorax)\n",
    "bias_test_part3 = gridsearch_bias(X_thorax_part3,y_thorax)\n",
    "bias_test_part4 = gridsearch_bias(X_thorax_part4,y_thorax)\n",
    "bias_test_part5 = gridsearch_bias(X_thorax_desbiased,y_thorax)"
   ]
  },
  {
   "cell_type": "code",
   "execution_count": 16,
   "metadata": {},
   "outputs": [
    {
     "data": {
      "text/html": [
       "<div>\n",
       "<style scoped>\n",
       "    .dataframe tbody tr th:only-of-type {\n",
       "        vertical-align: middle;\n",
       "    }\n",
       "\n",
       "    .dataframe tbody tr th {\n",
       "        vertical-align: top;\n",
       "    }\n",
       "\n",
       "    .dataframe thead th {\n",
       "        text-align: right;\n",
       "    }\n",
       "</style>\n",
       "<table border=\"1\" class=\"dataframe\">\n",
       "  <thead>\n",
       "    <tr style=\"text-align: right;\">\n",
       "      <th></th>\n",
       "      <th>param_clf</th>\n",
       "      <th>param_clf__kernel</th>\n",
       "      <th>mean_test_score</th>\n",
       "      <th>mean_test_score</th>\n",
       "      <th>mean_test_score</th>\n",
       "      <th>mean_test_score</th>\n",
       "      <th>mean_test_score</th>\n",
       "      <th>Tissue</th>\n",
       "    </tr>\n",
       "  </thead>\n",
       "  <tbody>\n",
       "    <tr>\n",
       "      <th>0</th>\n",
       "      <td>SVM</td>\n",
       "      <td>rbf</td>\n",
       "      <td>0.716216</td>\n",
       "      <td>0.816216</td>\n",
       "      <td>0.600000</td>\n",
       "      <td>0.548649</td>\n",
       "      <td>0.783784</td>\n",
       "      <td>Thorax</td>\n",
       "    </tr>\n",
       "    <tr>\n",
       "      <th>1</th>\n",
       "      <td>SVM</td>\n",
       "      <td>linear</td>\n",
       "      <td>0.937838</td>\n",
       "      <td>0.883784</td>\n",
       "      <td>0.845946</td>\n",
       "      <td>0.937838</td>\n",
       "      <td>0.891892</td>\n",
       "      <td>Thorax</td>\n",
       "    </tr>\n",
       "    <tr>\n",
       "      <th>2</th>\n",
       "      <td>LR</td>\n",
       "      <td>NaN</td>\n",
       "      <td>0.891892</td>\n",
       "      <td>0.845946</td>\n",
       "      <td>0.797297</td>\n",
       "      <td>0.900000</td>\n",
       "      <td>0.843243</td>\n",
       "      <td>Thorax</td>\n",
       "    </tr>\n",
       "    <tr>\n",
       "      <th>3</th>\n",
       "      <td>RF</td>\n",
       "      <td>NaN</td>\n",
       "      <td>0.724324</td>\n",
       "      <td>0.751351</td>\n",
       "      <td>0.651351</td>\n",
       "      <td>0.583784</td>\n",
       "      <td>0.754054</td>\n",
       "      <td>Thorax</td>\n",
       "    </tr>\n",
       "  </tbody>\n",
       "</table>\n",
       "</div>"
      ],
      "text/plain": [
       "  param_clf param_clf__kernel  mean_test_score  mean_test_score  \\\n",
       "0       SVM               rbf         0.716216         0.816216   \n",
       "1       SVM            linear         0.937838         0.883784   \n",
       "2        LR               NaN         0.891892         0.845946   \n",
       "3        RF               NaN         0.724324         0.751351   \n",
       "\n",
       "   mean_test_score  mean_test_score  mean_test_score  Tissue  \n",
       "0         0.600000         0.548649         0.783784  Thorax  \n",
       "1         0.845946         0.937838         0.891892  Thorax  \n",
       "2         0.797297         0.900000         0.843243  Thorax  \n",
       "3         0.651351         0.583784         0.754054  Thorax  "
      ]
     },
     "execution_count": 16,
     "metadata": {},
     "output_type": "execute_result"
    }
   ],
   "source": [
    "result = pd.concat([bias_test_part1, bias_test_part2['mean_test_score'],bias_test_part3['mean_test_score'],bias_test_part4['mean_test_score'],bias_test_part5['mean_test_score']], axis=1)\n",
    "result[\"Tissue\"] = \"Thorax\"\n",
    "result"
   ]
  },
  {
   "cell_type": "code",
   "execution_count": 17,
   "metadata": {},
   "outputs": [],
   "source": [
    "# head\n",
    "\n",
    "bias_test_head_part1 = gridsearch_bias(X_head_part1, y_head)\n",
    "bias_test_head_part2 = gridsearch_bias(X_head_part2, y_head)\n",
    "bias_test_head_part3 = gridsearch_bias(X_head_part3, y_head)\n",
    "bias_test_head_part4 = gridsearch_bias(X_head_part4, y_head)\n",
    "bias_test_head_part5 = gridsearch_bias(X_head_desbiased, y_head)"
   ]
  },
  {
   "cell_type": "code",
   "execution_count": 18,
   "metadata": {},
   "outputs": [],
   "source": [
    "result2 = pd.concat([bias_test_head_part1, \n",
    "    bias_test_head_part2['mean_test_score'],\n",
    "    bias_test_head_part3['mean_test_score'],\n",
    "    bias_test_head_part4['mean_test_score'],\n",
    "    bias_test_head_part5['mean_test_score']], axis=1)\n",
    "\n",
    "result2[\"Tissue\"] = \"Head\""
   ]
  },
  {
   "cell_type": "code",
   "execution_count": 19,
   "metadata": {},
   "outputs": [],
   "source": [
    "bias_agemales = pd.concat([result2, result])\n",
    "bias_agemales.set_index(\"Tissue\", inplace=True)\n",
    "\n",
    "bias_agemales.columns = [\"Model\", \"kernel\",\"D1\",\"D2\",\"D3\",\"D4\",\"D5\"]\n",
    "bias_agemales\n",
    "\n",
    "bias_agemales.to_excel(\"../results/tables/wholespectra_results/biased_age_males_pred.xlsx\")"
   ]
  },
  {
   "cell_type": "code",
   "execution_count": 20,
   "metadata": {},
   "outputs": [],
   "source": [
    "# permutation test\n",
    "\n",
    "from sklearn.linear_model import LogisticRegression\n",
    "from sklearn.model_selection import StratifiedKFold\n",
    "from sklearn.model_selection import permutation_test_score\n",
    "\n",
    "clf = LogisticRegression(max_iter=10000, random_state=7)\n",
    "cv = StratifiedKFold(2, shuffle=True, random_state=0)\n",
    "\n",
    "score_thorax, perm_scores_thorax, pvalue_thorax = permutation_test_score(\n",
    "    clf, X_thorax_part1, y_thorax, scoring=\"accuracy\", cv=cv, n_permutations=1000)"
   ]
  },
  {
   "cell_type": "code",
   "execution_count": 22,
   "metadata": {},
   "outputs": [
    {
     "data": {
      "image/png": "[encoded data removed]",
      "text/plain": [
       "<Figure size 300x300 with 1 Axes>"
      ]
     },
     "metadata": {},
     "output_type": "display_data"
    }
   ],
   "source": [
    "sn.set_palette('Set2')\n",
    "fig, ax = plt.subplots(figsize=(3,3))\n",
    "\n",
    "ax.hist(perm_scores_thorax, bins=20, density=True)\n",
    "ax.axvline(score_thorax, ls=\"--\", color=\"r\")\n",
    "score_label = f\"p-value: {pvalue_thorax:.3f}\"\n",
    "ax.text(0.1, 8, score_label, fontsize=9)\n",
    "ax.set_xlabel(\"Accuracy score\")\n",
    "ax.set_ylabel(\"Probability\")\n",
    "ax.set_xlim(0,1)\n",
    "\n",
    "plt.savefig(\"../results/plots/permutationtest_age_males.png\", dpi=300, bbox_inches='tight')"
   ]
  },
  {
   "attachments": {},
   "cell_type": "markdown",
   "metadata": {},
   "source": [
    "# Age prediction using the whole spectra"
   ]
  },
  {
   "cell_type": "code",
   "execution_count": 23,
   "metadata": {},
   "outputs": [],
   "source": [
    "X_th_train, X_th_test, y_th_train, y_th_test = train_test_split(X_thorax_part1, y_thorax, test_size=0.2, shuffle=True, random_state=123)\n",
    "\n",
    "X_hd_train, X_hd_test, y_hd_train, y_hd_test = train_test_split(X_head_part1, y_head, test_size=0.2, shuffle=True, random_state=123)"
   ]
  },
  {
   "cell_type": "code",
   "execution_count": 24,
   "metadata": {},
   "outputs": [],
   "source": [
    "shape_data_classes = {\"train_head\": y_hd_train.value_counts(),\n",
    "              \"train_thorax\": y_th_train.value_counts(),\n",
    "              \"test_head\": y_hd_test.value_counts(),\n",
    "              \"tsetse_thorax\":y_th_test.value_counts()}\n",
    "\n",
    "shape_data_classes_df = pd.DataFrame(shape_data_classes)\n",
    "shape_data_classes_df\n",
    "shape_data_classes_df.to_excel(\"../results/tables/wholespectra_results/train_test_shape_age_classes_males.xlsx\")"
   ]
  },
  {
   "cell_type": "code",
   "execution_count": 25,
   "metadata": {},
   "outputs": [
    {
     "name": "stdout",
     "output_type": "stream",
     "text": [
      "Fitting 10 folds for each of 4 candidates, totalling 40 fits\n"
     ]
    },
    {
     "name": "stdout",
     "output_type": "stream",
     "text": [
      "Fitting 10 folds for each of 4 candidates, totalling 40 fits\n"
     ]
    }
   ],
   "source": [
    "females_thorax_acc_baseline = baseline_accuracy(X_th_train, y_th_train)\n",
    "females_head_acc_baseline = baseline_accuracy(X_hd_train,y_hd_train)"
   ]
  },
  {
   "cell_type": "code",
   "execution_count": 26,
   "metadata": {},
   "outputs": [],
   "source": [
    "data_plot_thorax = dataplotmelt(females_thorax_acc_baseline)\n",
    "data_plot_head = dataplotmelt(females_head_acc_baseline)"
   ]
  },
  {
   "cell_type": "code",
   "execution_count": 27,
   "metadata": {},
   "outputs": [
    {
     "name": "stdout",
     "output_type": "stream",
     "text": [
      "  param_clf     value          \n",
      "                 mean       std\n",
      "0      CART  0.616667  0.074120\n",
      "1        LR  0.850000  0.059317\n",
      "2        RF  0.730000  0.042889\n",
      "3       SVC  0.733333  0.073703\n"
     ]
    }
   ],
   "source": [
    "output = data_plot_head.groupby([\"param_clf\"], as_index=False).agg({'value':['mean', 'std']})\n",
    "print(output)"
   ]
  },
  {
   "cell_type": "code",
   "execution_count": 28,
   "metadata": {},
   "outputs": [
    {
     "name": "stdout",
     "output_type": "stream",
     "text": [
      "  param_clf     value          \n",
      "                 mean       std\n",
      "0      CART  0.683333  0.072436\n",
      "1        LR  0.883333  0.045134\n",
      "2        RF  0.743333  0.081725\n",
      "3       SVC  0.690000  0.070361\n"
     ]
    }
   ],
   "source": [
    "output = data_plot_thorax.groupby([\"param_clf\"], as_index=False).agg({'value':['mean', 'std']})\n",
    "print(output)"
   ]
  },
  {
   "cell_type": "code",
   "execution_count": 29,
   "metadata": {},
   "outputs": [
    {
     "name": "stdout",
     "output_type": "stream",
     "text": [
      "Best model parameters{'model__C': 100, 'model__penalty': 'l2', 'model__solver': 'newton-cg'}\n"
     ]
    }
   ],
   "source": [
    "# model optimization\n",
    "\n",
    "# Head\n",
    "best_model_head = model_optimization(X_hd_train,y_hd_train)\n"
   ]
  },
  {
   "cell_type": "code",
   "execution_count": 30,
   "metadata": {},
   "outputs": [
    {
     "name": "stdout",
     "output_type": "stream",
     "text": [
      "Best model parameters{'model__C': 100, 'model__penalty': 'l2', 'model__solver': 'newton-cg'}\n"
     ]
    }
   ],
   "source": [
    "# thorax\n",
    "\n",
    "best_mdoel_thorax = model_optimization(X_th_train, y_th_train)"
   ]
  },
  {
   "cell_type": "code",
   "execution_count": 31,
   "metadata": {},
   "outputs": [],
   "source": [
    "# test head\n",
    "\n",
    "y_head_pred, y_head_prob, pipe_head = test_model(X_hd_train, X_hd_test, y_hd_train, best_model_head)\n",
    "y_thorax_pred, y_thorax_prob, pipe_thorax = test_model(X_th_train, X_th_test, y_th_train, best_mdoel_thorax)"
   ]
  },
  {
   "cell_type": "code",
   "execution_count": 32,
   "metadata": {},
   "outputs": [
    {
     "name": "stdout",
     "output_type": "stream",
     "text": [
      "Accuracy on test set: 0.8947368421052632\n",
      "Accuracy on test set: 0.918918918918919\n"
     ]
    }
   ],
   "source": [
    "accuracy_head = accuracy_score(y_hd_test, y_head_pred)\n",
    "accuracy_thorax = accuracy_score(y_th_test, y_thorax_pred)\n",
    "print(f\"Accuracy on test set: {accuracy_head}\")\n",
    "print(f\"Accuracy on test set: {accuracy_thorax}\")"
   ]
  },
  {
   "cell_type": "code",
   "execution_count": 33,
   "metadata": {},
   "outputs": [],
   "source": [
    "report_head = classification_report(y_hd_test, y_head_pred, output_dict=True)\n",
    "report_head = pd.DataFrame(report_head).transpose()\n",
    "report_head[\"Tissue\"] = \"Head\""
   ]
  },
  {
   "cell_type": "code",
   "execution_count": 34,
   "metadata": {},
   "outputs": [],
   "source": [
    "report_thorax = classification_report(y_th_test, y_thorax_pred, output_dict=True)\n",
    "report_thorax = pd.DataFrame(report_thorax).transpose()\n",
    "report_thorax[\"Tissue\"] = \"Head\""
   ]
  },
  {
   "cell_type": "code",
   "execution_count": 35,
   "metadata": {},
   "outputs": [],
   "source": [
    "report_age_males_prediction = pd.concat([report_head, report_thorax])\n",
    "\n",
    "report_age_males_prediction.to_excel(\"../results/tables/wholespectra_results/Accuracy_age_males_report.xlsx\")"
   ]
  },
  {
   "cell_type": "code",
   "execution_count": 36,
   "metadata": {},
   "outputs": [
    {
     "name": "stderr",
     "output_type": "stream",
     "text": [
      "shuffle split: 100%|██████████| 100/100 [00:12<00:00,  8.29it/s]"
     ]
    },
    {
     "name": "stdout",
     "output_type": "stream",
     "text": [
      "Model perfomance using monte carlo cross-validation\n",
      "Mean accuracy = 0.88 ± 0.06\n"
     ]
    },
    {
     "name": "stderr",
     "output_type": "stream",
     "text": [
      "\n"
     ]
    }
   ],
   "source": [
    "# monte carlo cross validation\n",
    "# head\n",
    "accuracy_head_mc, sensitivity_head_mc, specificity_head_mc = montecarlo_crossvalidation(X_head_part1, y_head, best_model_head)\n",
    "\n"
   ]
  },
  {
   "cell_type": "code",
   "execution_count": 37,
   "metadata": {},
   "outputs": [
    {
     "name": "stderr",
     "output_type": "stream",
     "text": [
      "shuffle split: 100%|██████████| 100/100 [00:09<00:00, 10.54it/s]"
     ]
    },
    {
     "name": "stdout",
     "output_type": "stream",
     "text": [
      "Model perfomance using monte carlo cross-validation\n",
      "Mean accuracy = 0.91 ± 0.05\n"
     ]
    },
    {
     "name": "stderr",
     "output_type": "stream",
     "text": [
      "\n"
     ]
    }
   ],
   "source": [
    "accuracy_thorax_mc, sensitivity_thorax_mc, specificity_thorax_mc = montecarlo_crossvalidation(X_thorax_part1, y_thorax, best_mdoel_thorax)"
   ]
  },
  {
   "cell_type": "code",
   "execution_count": 38,
   "metadata": {},
   "outputs": [],
   "source": [
    "monte_carlo = pd.DataFrame({\"Accuracy\": [np.mean(accuracy_head_mc),\n",
    "                                         np.mean(accuracy_thorax_mc)], \n",
    "                            \"std\":[np.std(accuracy_head_mc),\n",
    "                                   np.std(accuracy_thorax_mc)], \n",
    "                            \"Sensitivity\":[np.mean(sensitivity_head_mc),\n",
    "                                           np.mean(sensitivity_thorax_mc)],\n",
    "                            \"std_s\": [np.std(sensitivity_head_mc),\n",
    "                                           np.std(sensitivity_thorax_mc)],\n",
    "                            \"Specificity\": [np.mean(specificity_head_mc),\n",
    "                                          np.mean(specificity_thorax_mc)],\n",
    "                            \"std_sp\": [np.std(specificity_head_mc),\n",
    "                                          np.std(specificity_thorax_mc)]}, index=['head','thorax'])"
   ]
  },
  {
   "cell_type": "code",
   "execution_count": 39,
   "metadata": {},
   "outputs": [
    {
     "data": {
      "text/html": [
       "<div>\n",
       "<style scoped>\n",
       "    .dataframe tbody tr th:only-of-type {\n",
       "        vertical-align: middle;\n",
       "    }\n",
       "\n",
       "    .dataframe tbody tr th {\n",
       "        vertical-align: top;\n",
       "    }\n",
       "\n",
       "    .dataframe thead th {\n",
       "        text-align: right;\n",
       "    }\n",
       "</style>\n",
       "<table border=\"1\" class=\"dataframe\">\n",
       "  <thead>\n",
       "    <tr style=\"text-align: right;\">\n",
       "      <th></th>\n",
       "      <th>Accuracy</th>\n",
       "      <th>std</th>\n",
       "      <th>Sensitivity</th>\n",
       "      <th>std_s</th>\n",
       "      <th>Specificity</th>\n",
       "      <th>std_sp</th>\n",
       "    </tr>\n",
       "  </thead>\n",
       "  <tbody>\n",
       "    <tr>\n",
       "      <th>head</th>\n",
       "      <td>0.879211</td>\n",
       "      <td>0.062062</td>\n",
       "      <td>0.877575</td>\n",
       "      <td>0.090864</td>\n",
       "      <td>0.885520</td>\n",
       "      <td>0.086051</td>\n",
       "    </tr>\n",
       "    <tr>\n",
       "      <th>thorax</th>\n",
       "      <td>0.914324</td>\n",
       "      <td>0.051855</td>\n",
       "      <td>0.921526</td>\n",
       "      <td>0.065440</td>\n",
       "      <td>0.910812</td>\n",
       "      <td>0.074250</td>\n",
       "    </tr>\n",
       "  </tbody>\n",
       "</table>\n",
       "</div>"
      ],
      "text/plain": [
       "        Accuracy       std  Sensitivity     std_s  Specificity    std_sp\n",
       "head    0.879211  0.062062     0.877575  0.090864     0.885520  0.086051\n",
       "thorax  0.914324  0.051855     0.921526  0.065440     0.910812  0.074250"
      ]
     },
     "execution_count": 39,
     "metadata": {},
     "output_type": "execute_result"
    }
   ],
   "source": [
    "monte_carlo.to_excel(\"../results/tables/Wholespectra_results/age_prediction_males_mc.xlsx\")\n",
    "monte_carlo"
   ]
  },
  {
   "cell_type": "code",
   "execution_count": 40,
   "metadata": {},
   "outputs": [],
   "source": [
    "waveNumslist = X_thorax_part1.columns.values.tolist()\n",
    "wavenumbers = [int(x) for x in waveNumslist]"
   ]
  },
  {
   "cell_type": "code",
   "execution_count": 43,
   "metadata": {},
   "outputs": [
    {
     "data": {
      "image/png": "[encoded data removed]",
      "text/plain": [
       "<Figure size 1000x400 with 2 Axes>"
      ]
     },
     "metadata": {},
     "output_type": "display_data"
    }
   ],
   "source": [
    "# Final plot age prediction males\n",
    "sn.set(font_scale=1.2)\n",
    "sn.set_style(\"ticks\")\n",
    "sn.set_palette('bright', color_codes=True)\n",
    "\n",
    "fig, (ax, ax2) = plt.subplots(1, 2, figsize=(10,4), tight_layout=True)\n",
    "\n",
    "# boxplots\n",
    "sn.boxplot(data=data_plot_head, x='param_clf',y='value',ax=ax, color='white')\n",
    "sn.stripplot(data=data_plot_head, x='param_clf',y='value',ax=ax, size=10,alpha=0.5, hue='param_clf', legend=False)\n",
    "plt.setp(ax.lines, color = 'k')\n",
    "for l, box in enumerate(ax.patches):\n",
    "    box.set_edgecolor('black')\n",
    "ax.axhline(0.5, ls=\"--\", color='r')\n",
    "ax.set_ylim(0.4,1)\n",
    "\n",
    "\n",
    "plots1 = [ax]\n",
    "\n",
    "for i in plots1:\n",
    "    i.set_xlabel(\"Models\")\n",
    "    i.set_ylabel(\"Accuracy\")\n",
    "\n",
    "plots1 = [ax2]\n",
    "\n",
    "for i in plots1:\n",
    "    i.set_xlabel(\"Wavenumbers (cm$^{-1}$)\")\n",
    "    i.set_ylabel(\"Coefficients\")\n",
    "\n",
    "# coefficients\n",
    "sn.lineplot(x=wavenumbers,y=best_model_head['model'].coef_[0], color='b',ax=ax2, linewidth=0.5)\n",
    "\n",
    "ax2.set_xlim(4000,402)\n",
    "\n",
    "\n",
    "sn.lineplot(x=wavenumbers, y = np.mean(X_head_part1, axis=0)*10, color='k', ax=ax2, linewidth=0.7)\n",
    "\n",
    "ax2.axhline(0, ls='--', color='k')\n",
    "\n",
    "plots1 = [ax,ax2]\n",
    "letters = [\"A\", \"B\", \"C\", \"D\", \"E\", \"F\"]\n",
    "\n",
    "\n",
    "\n",
    "plt.savefig(\"../results/plots/Fig4_age_males_head.png\", dpi=900)"
   ]
  }
 ],
 "metadata": {
  "kernelspec": {
   "display_name": ".tsetse_mirs",
   "language": "python",
   "name": "python3"
  },
  "language_info": {
   "codemirror_mode": {
    "name": "ipython",
    "version": 3
   },
   "file_extension": ".py",
   "mimetype": "text/x-python",
   "name": "python",
   "nbconvert_exporter": "python",
   "pygments_lexer": "ipython3",
   "version": "3.10.6"
  },
  "orig_nbformat": 4
 },
 "nbformat": 4,
 "nbformat_minor": 2
}
