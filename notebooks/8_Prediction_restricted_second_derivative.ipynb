{
 "cells": [
  {
   "cell_type": "markdown",
   "metadata": {},
   "source": []
  },
  {
   "cell_type": "markdown",
   "metadata": {},
   "source": [
    "# Traits prediction in Tsetse flies using restirctied number of wavenumbers using second derivative\n",
    "Final jupyter notebook for sex, and age prediction of males and females flies using the infrared region from 1750-602 cm $^{-1}$. This notebooks creates the models and reproduces figure S3 and figure S4 of the manuscript. \n",
    "\n",
    "\n",
    "## Changelog\n",
    "### 16/11/2023\n",
    "Added extraction of top20 wavenumbers plot"
   ]
  },
  {
   "cell_type": "code",
   "execution_count": 1,
   "metadata": {},
   "outputs": [],
   "source": [
    "%load_ext autoreload\n",
    "%autoreload 2"
   ]
  },
  {
   "cell_type": "code",
   "execution_count": 1,
   "metadata": {},
   "outputs": [],
   "source": [
    "# import packages\n",
    "\n",
    "import sys\n",
    "\n",
    "import pandas as pd\n",
    "import seaborn as sn\n",
    "import matplotlib.pyplot as plt\n",
    "import numpy as np\n",
    "import joblib\n",
    "\n",
    "\n",
    "from sklearn.model_selection import train_test_split\n",
    "from sklearn.metrics import ConfusionMatrixDisplay, accuracy_score\n",
    "\n",
    "\n",
    "\n",
    "sys.path.append('../src')\n",
    "from utilities import baseline_accuracy\n",
    "from utilities import baseline_accuracy_derivative\n",
    "from utilities import dataplotmelt\n",
    "from utilities import test_model\n",
    "from utilities import model_optimization_rf\n",
    "from utilities import train_model\n",
    "from utilities import test_model\n",
    "from utilities import variable_importance_df\n",
    "from utilities import add_label_band\n",
    "from utilities import montecarlo_crossvalidation"
   ]
  },
  {
   "cell_type": "code",
   "execution_count": 2,
   "metadata": {},
   "outputs": [],
   "source": [
    "colors = sn.color_palette(\"Set2\") "
   ]
  },
  {
   "cell_type": "code",
   "execution_count": 3,
   "metadata": {},
   "outputs": [],
   "source": [
    "#tsetse_data = pd.read_csv(\"../data/processed/TseTse_processed.csv\")\n",
    "tsetse_data = pd.read_csv(\"../data/processed/TseTse_processed_wo_outliers.csv\")"
   ]
  },
  {
   "cell_type": "code",
   "execution_count": 4,
   "metadata": {},
   "outputs": [
    {
     "data": {
      "text/html": [
       "<div>\n",
       "<style scoped>\n",
       "    .dataframe tbody tr th:only-of-type {\n",
       "        vertical-align: middle;\n",
       "    }\n",
       "\n",
       "    .dataframe tbody tr th {\n",
       "        vertical-align: top;\n",
       "    }\n",
       "\n",
       "    .dataframe thead th {\n",
       "        text-align: right;\n",
       "    }\n",
       "</style>\n",
       "<table border=\"1\" class=\"dataframe\">\n",
       "  <thead>\n",
       "    <tr style=\"text-align: right;\">\n",
       "      <th></th>\n",
       "      <th></th>\n",
       "      <th></th>\n",
       "      <th>ID</th>\n",
       "    </tr>\n",
       "    <tr>\n",
       "      <th>Sex</th>\n",
       "      <th>Age</th>\n",
       "      <th>Tissue</th>\n",
       "      <th></th>\n",
       "    </tr>\n",
       "  </thead>\n",
       "  <tbody>\n",
       "    <tr>\n",
       "      <th rowspan=\"9\" valign=\"top\">f</th>\n",
       "      <th rowspan=\"3\" valign=\"top\">3d</th>\n",
       "      <th>Abdomen</th>\n",
       "      <td>48</td>\n",
       "    </tr>\n",
       "    <tr>\n",
       "      <th>Head</th>\n",
       "      <td>130</td>\n",
       "    </tr>\n",
       "    <tr>\n",
       "      <th>Thorax</th>\n",
       "      <td>135</td>\n",
       "    </tr>\n",
       "    <tr>\n",
       "      <th rowspan=\"3\" valign=\"top\">5w</th>\n",
       "      <th>Abdomen</th>\n",
       "      <td>16</td>\n",
       "    </tr>\n",
       "    <tr>\n",
       "      <th>Head</th>\n",
       "      <td>92</td>\n",
       "    </tr>\n",
       "    <tr>\n",
       "      <th>Thorax</th>\n",
       "      <td>96</td>\n",
       "    </tr>\n",
       "    <tr>\n",
       "      <th rowspan=\"3\" valign=\"top\">7w</th>\n",
       "      <th>Abdomen</th>\n",
       "      <td>38</td>\n",
       "    </tr>\n",
       "    <tr>\n",
       "      <th>Head</th>\n",
       "      <td>119</td>\n",
       "    </tr>\n",
       "    <tr>\n",
       "      <th>Thorax</th>\n",
       "      <td>117</td>\n",
       "    </tr>\n",
       "    <tr>\n",
       "      <th rowspan=\"5\" valign=\"top\">m</th>\n",
       "      <th rowspan=\"2\" valign=\"top\">5w</th>\n",
       "      <th>Head</th>\n",
       "      <td>93</td>\n",
       "    </tr>\n",
       "    <tr>\n",
       "      <th>Thorax</th>\n",
       "      <td>93</td>\n",
       "    </tr>\n",
       "    <tr>\n",
       "      <th rowspan=\"3\" valign=\"top\">7w</th>\n",
       "      <th>Abdomen</th>\n",
       "      <td>15</td>\n",
       "    </tr>\n",
       "    <tr>\n",
       "      <th>Head</th>\n",
       "      <td>92</td>\n",
       "    </tr>\n",
       "    <tr>\n",
       "      <th>Thorax</th>\n",
       "      <td>92</td>\n",
       "    </tr>\n",
       "  </tbody>\n",
       "</table>\n",
       "</div>"
      ],
      "text/plain": [
       "                  ID\n",
       "Sex Age Tissue      \n",
       "f   3d  Abdomen   48\n",
       "        Head     130\n",
       "        Thorax   135\n",
       "    5w  Abdomen   16\n",
       "        Head      92\n",
       "        Thorax    96\n",
       "    7w  Abdomen   38\n",
       "        Head     119\n",
       "        Thorax   117\n",
       "m   5w  Head      93\n",
       "        Thorax    93\n",
       "    7w  Abdomen   15\n",
       "        Head      92\n",
       "        Thorax    92"
      ]
     },
     "execution_count": 4,
     "metadata": {},
     "output_type": "execute_result"
    }
   ],
   "source": [
    "df_ic = pd.DataFrame(tsetse_data.groupby(['Sex','Age','Tissue'])['ID'].count())\n",
    "df_ic"
   ]
  },
  {
   "cell_type": "code",
   "execution_count": 5,
   "metadata": {},
   "outputs": [],
   "source": [
    "tsetse_data_sameages = tsetse_data[(tsetse_data[\"Age\"]!= '3d')]\n",
    "tsetse_data_sameages_copy = tsetse_data_sameages.copy()\n",
    "\n",
    "tsetse_thorax = tsetse_data_sameages_copy.loc[tsetse_data_sameages_copy['Tissue'] == 'Thorax']\n",
    "tsetse_head = tsetse_data_sameages_copy.loc[tsetse_data_sameages_copy['Tissue'] == 'Head']"
   ]
  },
  {
   "cell_type": "markdown",
   "metadata": {},
   "source": [
    "## Sex prediction"
   ]
  },
  {
   "cell_type": "code",
   "execution_count": 6,
   "metadata": {},
   "outputs": [],
   "source": [
    "X_sex_thorax = tsetse_thorax.loc[:,\"1750\":\"602\"]\n",
    "y_sex_thorax = tsetse_thorax.loc[:,\"Sex\"]\n",
    "\n",
    "X_sex_head = tsetse_head.loc[:,\"1750\":\"602\"]\n",
    "y_sex_head = tsetse_head.loc[:,\"Sex\"]"
   ]
  },
  {
   "cell_type": "code",
   "execution_count": 7,
   "metadata": {},
   "outputs": [],
   "source": [
    "waveNumslist = X_sex_thorax.columns.values.tolist()\n",
    "wavenumbers = [int(x) for x in waveNumslist]"
   ]
  },
  {
   "cell_type": "code",
   "execution_count": 8,
   "metadata": {},
   "outputs": [],
   "source": [
    "X_th_train, X_th_test, y_th_train, y_th_test = train_test_split(X_sex_thorax, y_sex_thorax, test_size=0.2, shuffle=True, random_state=123)\n",
    "\n",
    "X_hd_train, X_hd_test, y_hd_train, y_hd_test = train_test_split(X_sex_head, y_sex_head, test_size=0.2, shuffle=True, random_state=123)"
   ]
  },
  {
   "cell_type": "code",
   "execution_count": 13,
   "metadata": {},
   "outputs": [
    {
     "name": "stdout",
     "output_type": "stream",
     "text": [
      "Fitting 10 folds for each of 4 candidates, totalling 40 fits\n",
      "Fitting 10 folds for each of 4 candidates, totalling 40 fits\n"
     ]
    }
   ],
   "source": [
    "sex_thorax_acc_baseline = baseline_accuracy(X_th_train, y_th_train)\n",
    "sex_head_acc_baseline = baseline_accuracy(X_hd_train,y_hd_train)"
   ]
  },
  {
   "cell_type": "code",
   "execution_count": 14,
   "metadata": {},
   "outputs": [],
   "source": [
    "sex_data_plot_thorax = dataplotmelt(sex_thorax_acc_baseline)\n",
    "sex_data_plot_head = dataplotmelt(sex_head_acc_baseline)"
   ]
  },
  {
   "cell_type": "code",
   "execution_count": 17,
   "metadata": {},
   "outputs": [
    {
     "name": "stdout",
     "output_type": "stream",
     "text": [
      "Best model parameters{'model__bootstrap': True, 'model__max_depth': 80, 'model__max_features': 2, 'model__min_samples_leaf': 3, 'model__min_samples_split': 12, 'model__n_estimators': 200}\n",
      "Best model parameters{'model__bootstrap': True, 'model__max_depth': 80, 'model__max_features': 3, 'model__min_samples_leaf': 4, 'model__min_samples_split': 12, 'model__n_estimators': 100}\n"
     ]
    }
   ],
   "source": [
    "# Head\n",
    "best_model_head = model_optimization_rf(X_hd_train,y_hd_train)\n",
    "# thorax\n",
    "best_mdoel_thorax = model_optimization_rf(X_th_train, y_th_train)"
   ]
  },
  {
   "cell_type": "code",
   "execution_count": 18,
   "metadata": {},
   "outputs": [],
   "source": [
    "# Train the best model\n",
    "sex_model_head=train_model(X_hd_train,y_hd_train, best_model_head,'sex_head_informative_derv')\n",
    "sex_model_thorax=train_model(X_th_train,y_th_train, best_mdoel_thorax,'sex_thorax_informative_derv')"
   ]
  },
  {
   "cell_type": "code",
   "execution_count": 10,
   "metadata": {},
   "outputs": [],
   "source": [
    "#test model\n",
    "loaded_model_sex_head = joblib.load('../results/models/trained_model_sex_head_informative_derv.sav')\n",
    "loaded_model_sex_thorax = joblib.load('../results/models/trained_model_sex_thorax_informative_derv.sav')"
   ]
  },
  {
   "cell_type": "code",
   "execution_count": 11,
   "metadata": {},
   "outputs": [
    {
     "name": "stdout",
     "output_type": "stream",
     "text": [
      "Pipeline(steps=[('scaler', SavitzkyGolay()),\n",
      "                ('model',\n",
      "                 RandomForestClassifier(max_depth=80, max_features=2,\n",
      "                                        min_samples_leaf=3,\n",
      "                                        min_samples_split=12, n_estimators=200,\n",
      "                                        random_state=123))])\n",
      "Accuracy on test set using the head: 0.95\n",
      "Pipeline(steps=[('scaler', SavitzkyGolay()),\n",
      "                ('model',\n",
      "                 RandomForestClassifier(max_depth=80, max_features=3,\n",
      "                                        min_samples_leaf=4,\n",
      "                                        min_samples_split=12,\n",
      "                                        random_state=123))])\n",
      "Accuracy on test set using the head: 0.825\n"
     ]
    }
   ],
   "source": [
    "y_sex_head_pred = test_model(X_hd_test, y_hd_test, loaded_model_sex_head)\n",
    "\n",
    "y_sex_thorax_pred = test_model(X_th_test, y_th_test, loaded_model_sex_thorax)"
   ]
  },
  {
   "cell_type": "code",
   "execution_count": 15,
   "metadata": {},
   "outputs": [
    {
     "data": {
      "text/plain": [
       "0.896875"
      ]
     },
     "execution_count": 15,
     "metadata": {},
     "output_type": "execute_result"
    }
   ],
   "source": [
    "sex_data_plot_head[sex_data_plot_head['param_clf'] == 'RF']['value'].mean()\n",
    "sex_data_plot_thorax[sex_data_plot_thorax['param_clf'] == 'RF']['value'].mean()\n",
    "\n",
    "# sex_data_plot_thorax.groupby('param_clf')['value'].mean()\n",
    "# sex_data_plot_thorax.groupby('param_clf')['value'].std()"
   ]
  },
  {
   "cell_type": "code",
   "execution_count": 16,
   "metadata": {},
   "outputs": [
    {
     "data": {
      "text/plain": [
       "param_clf\n",
       "CART    0.907813\n",
       "LR      0.531250\n",
       "RF      0.931250\n",
       "SVC     0.929688\n",
       "Name: value, dtype: float64"
      ]
     },
     "execution_count": 16,
     "metadata": {},
     "output_type": "execute_result"
    }
   ],
   "source": [
    "sex_data_plot_head.groupby('param_clf')['value'].mean()"
   ]
  },
  {
   "cell_type": "markdown",
   "metadata": {},
   "source": [
    "## Male age prediction"
   ]
  },
  {
   "cell_type": "code",
   "execution_count": 17,
   "metadata": {},
   "outputs": [],
   "source": [
    "tsetse_males_thorax = tsetse_data.loc[(tsetse_data['Sex'] == 'm') & (tsetse_data['Tissue'] == 'Thorax')]\n",
    "\n",
    "tsetse_males_head = tsetse_data.loc[(tsetse_data['Sex'] == 'm') & (tsetse_data['Tissue'] == 'Head')]"
   ]
  },
  {
   "cell_type": "code",
   "execution_count": 18,
   "metadata": {},
   "outputs": [],
   "source": [
    "X_males_thorax = tsetse_males_thorax.loc[:,\"1750\":\"602\"]\n",
    "X_males_head = tsetse_males_head.loc[:,\"1750\":\"602\"]\n",
    "\n",
    "y_males_thorax = tsetse_males_thorax.loc[:,\"Age\"]\n",
    "y_males_head = tsetse_males_head.loc[:,\"Age\"]"
   ]
  },
  {
   "cell_type": "code",
   "execution_count": 19,
   "metadata": {},
   "outputs": [],
   "source": [
    "Xm_th_train, Xm_th_test, ym_th_train, ym_th_test = train_test_split(X_males_thorax, y_males_thorax, test_size=0.2, shuffle=True, random_state=123)\n",
    "\n",
    "Xm_hd_train, Xm_hd_test, ym_hd_train, ym_hd_test = train_test_split(X_males_head, y_males_head, test_size=0.2, shuffle=True, random_state=123)"
   ]
  },
  {
   "cell_type": "code",
   "execution_count": 20,
   "metadata": {},
   "outputs": [
    {
     "name": "stdout",
     "output_type": "stream",
     "text": [
      "Fitting 10 folds for each of 4 candidates, totalling 40 fits\n",
      "Fitting 10 folds for each of 4 candidates, totalling 40 fits\n"
     ]
    }
   ],
   "source": [
    "males_thorax_acc_baseline = baseline_accuracy(Xm_th_train, ym_th_train)\n",
    "males_head_acc_baseline = baseline_accuracy(Xm_hd_train,ym_hd_train)"
   ]
  },
  {
   "cell_type": "code",
   "execution_count": 21,
   "metadata": {},
   "outputs": [],
   "source": [
    "males_data_plot_thorax = dataplotmelt(males_thorax_acc_baseline)\n",
    "males_data_plot_head = dataplotmelt(males_head_acc_baseline)"
   ]
  },
  {
   "cell_type": "code",
   "execution_count": 27,
   "metadata": {},
   "outputs": [
    {
     "name": "stdout",
     "output_type": "stream",
     "text": [
      "Best model parameters{'model__bootstrap': True, 'model__max_depth': 80, 'model__max_features': 2, 'model__min_samples_leaf': 3, 'model__min_samples_split': 12, 'model__n_estimators': 200}\n",
      "Best model parameters{'model__bootstrap': True, 'model__max_depth': 80, 'model__max_features': 2, 'model__min_samples_leaf': 3, 'model__min_samples_split': 8, 'model__n_estimators': 100}\n"
     ]
    }
   ],
   "source": [
    "# model optimization\n",
    "\n",
    "males_best_model_head = model_optimization(Xm_hd_train,ym_hd_train)\n",
    "males_best_model_thorax = model_optimization(Xm_th_train, ym_th_train)"
   ]
  },
  {
   "cell_type": "code",
   "execution_count": 48,
   "metadata": {},
   "outputs": [],
   "source": [
    "# Train the best model\n",
    "train_model(Xm_hd_train,ym_hd_train, males_best_model_head,\"head_male_informative\")\n",
    "train_model(Xm_th_train,ym_th_train,males_best_model_thorax,\"thorax_male_informative\")"
   ]
  },
  {
   "cell_type": "code",
   "execution_count": 22,
   "metadata": {},
   "outputs": [],
   "source": [
    "#test model\n",
    "loaded_model_males_head = joblib.load('../results/models/trained_model_head_male_informative.sav')\n",
    "\n",
    "loaded_model_males_thorax = joblib.load('../results/models/trained_model_thorax_male_informative.sav')"
   ]
  },
  {
   "cell_type": "code",
   "execution_count": 23,
   "metadata": {},
   "outputs": [
    {
     "name": "stdout",
     "output_type": "stream",
     "text": [
      "Pipeline(steps=[('scaler', SavitzkyGolay()),\n",
      "                ('model',\n",
      "                 RandomForestClassifier(max_depth=80, max_features=2,\n",
      "                                        min_samples_leaf=3,\n",
      "                                        min_samples_split=12, n_estimators=200,\n",
      "                                        random_state=123))])\n",
      "Accuracy on test set using the head: 0.7297297297297297\n",
      "Pipeline(steps=[('scaler', SavitzkyGolay()),\n",
      "                ('model',\n",
      "                 RandomForestClassifier(max_depth=80, max_features=2,\n",
      "                                        min_samples_leaf=3, min_samples_split=8,\n",
      "                                        random_state=123))])\n",
      "Accuracy on test set using the head: 0.7027027027027027\n"
     ]
    }
   ],
   "source": [
    "y_male_head_pred = test_model(Xm_hd_test, ym_hd_test, loaded_model_males_head)\n",
    "\n",
    "y_male_thorax_pred = test_model(Xm_th_test, ym_th_test, loaded_model_males_thorax)"
   ]
  },
  {
   "cell_type": "markdown",
   "metadata": {},
   "source": [
    "## Female age prediction"
   ]
  },
  {
   "cell_type": "code",
   "execution_count": 24,
   "metadata": {},
   "outputs": [],
   "source": [
    "tsetse_females_thorax = tsetse_data.loc[(tsetse_data['Sex'] == 'f') & (tsetse_data['Tissue'] == 'Thorax')]\n",
    "\n",
    "tsetse_females_head = tsetse_data.loc[(tsetse_data['Sex'] == 'f') & (tsetse_data['Tissue'] == 'Head')]"
   ]
  },
  {
   "cell_type": "code",
   "execution_count": 25,
   "metadata": {},
   "outputs": [],
   "source": [
    "X_females_thorax = tsetse_females_thorax.loc[:,\"1750\":\"602\"]\n",
    "X_females_head = tsetse_females_head.loc[:,\"1750\":\"602\"]\n",
    "\n",
    "y_females_thorax = tsetse_females_thorax.loc[:,\"Age\"]\n",
    "y_females_head = tsetse_females_head.loc[:,\"Age\"]"
   ]
  },
  {
   "cell_type": "code",
   "execution_count": 26,
   "metadata": {},
   "outputs": [],
   "source": [
    "Xf_th_train, Xf_th_test, yf_th_train, yf_th_test = train_test_split(X_females_thorax, y_females_thorax, test_size=0.2, shuffle=True, random_state=123)\n",
    "\n",
    "Xf_hd_train, Xf_hd_test, yf_hd_train, yf_hd_test = train_test_split(X_females_head, y_females_head, test_size=0.2, shuffle=True, random_state=123)"
   ]
  },
  {
   "cell_type": "code",
   "execution_count": 27,
   "metadata": {},
   "outputs": [
    {
     "name": "stdout",
     "output_type": "stream",
     "text": [
      "Fitting 10 folds for each of 4 candidates, totalling 40 fits\n",
      "Fitting 10 folds for each of 4 candidates, totalling 40 fits\n"
     ]
    }
   ],
   "source": [
    "females_thorax_acc_baseline = baseline_accuracy(Xf_th_train, yf_th_train)\n",
    "females_head_acc_baseline = baseline_accuracy(Xf_hd_train,yf_hd_train)"
   ]
  },
  {
   "cell_type": "code",
   "execution_count": 28,
   "metadata": {},
   "outputs": [],
   "source": [
    "females_data_plot_thorax = dataplotmelt(females_thorax_acc_baseline)\n",
    "females_data_plot_head = dataplotmelt(females_head_acc_baseline)"
   ]
  },
  {
   "cell_type": "code",
   "execution_count": 33,
   "metadata": {},
   "outputs": [
    {
     "name": "stdout",
     "output_type": "stream",
     "text": [
      "Best model parameters{'model__bootstrap': True, 'model__max_depth': 80, 'model__max_features': 3, 'model__min_samples_leaf': 3, 'model__min_samples_split': 8, 'model__n_estimators': 100}\n",
      "Best model parameters{'model__bootstrap': True, 'model__max_depth': 80, 'model__max_features': 2, 'model__min_samples_leaf': 3, 'model__min_samples_split': 8, 'model__n_estimators': 100}\n"
     ]
    }
   ],
   "source": [
    "# model optimization\n",
    "\n",
    "females_best_model_head = model_optimization(Xf_hd_train,yf_hd_train)\n",
    "females_best_model_thorax = model_optimization(Xf_th_train, yf_th_train)"
   ]
  },
  {
   "cell_type": "code",
   "execution_count": 34,
   "metadata": {},
   "outputs": [],
   "source": [
    "# Train the best model\n",
    "train_model(Xf_hd_train,yf_hd_train, females_best_model_head,\"head_female_informative\")\n",
    "train_model(Xf_th_train,yf_th_train, females_best_model_thorax,\"thorax_female_informative\")"
   ]
  },
  {
   "cell_type": "code",
   "execution_count": 29,
   "metadata": {},
   "outputs": [],
   "source": [
    "#test model\n",
    "loaded_model_females_head = joblib.load('../results/models/trained_model_head_female_informative.sav')\n",
    "\n",
    "loaded_model_females_thorax = joblib.load('../results/models/trained_model_thorax_female_informative.sav')"
   ]
  },
  {
   "cell_type": "code",
   "execution_count": 30,
   "metadata": {},
   "outputs": [
    {
     "name": "stdout",
     "output_type": "stream",
     "text": [
      "Pipeline(steps=[('scaler', SavitzkyGolay()),\n",
      "                ('model',\n",
      "                 RandomForestClassifier(max_depth=80, max_features=3,\n",
      "                                        min_samples_leaf=3, min_samples_split=8,\n",
      "                                        random_state=123))])\n",
      "Accuracy on test set using the head: 0.782608695652174\n",
      "Pipeline(steps=[('scaler', SavitzkyGolay()),\n",
      "                ('model',\n",
      "                 RandomForestClassifier(max_depth=80, max_features=2,\n",
      "                                        min_samples_leaf=3, min_samples_split=8,\n",
      "                                        random_state=123))])\n",
      "Accuracy on test set using the head: 0.7428571428571429\n"
     ]
    }
   ],
   "source": [
    "y_female_head_pred = test_model(Xf_hd_test, yf_hd_test, loaded_model_females_head)\n",
    "\n",
    "y_female_thorax_pred = test_model(Xf_th_test, yf_th_test, loaded_model_females_thorax)"
   ]
  },
  {
   "cell_type": "code",
   "execution_count": 31,
   "metadata": {},
   "outputs": [
    {
     "data": {
      "text/plain": [
       "Text(0.5, 0.34, 'Female age prediction')"
      ]
     },
     "execution_count": 31,
     "metadata": {},
     "output_type": "execute_result"
    },
    {
     "data": {
      "image/png": "[encoded data removed]",
      "text/plain": [
       "<Figure size 750x700 with 6 Axes>"
      ]
     },
     "metadata": {},
     "output_type": "display_data"
    }
   ],
   "source": [
    "# Figure 4\n",
    "\n",
    "rc={'font.size': 12,\n",
    "    \"font.family\":\"Arial\",\n",
    "    \"axes.labelsize\":10,\n",
    "    'xtick.labelsize':10,\n",
    "    'ytick.labelsize':10}\n",
    "\n",
    "sn.set_style(\"ticks\")\n",
    "sn.set_context('notebook', rc=rc)\n",
    "sn.set_palette('bright', color_codes=True)\n",
    "\n",
    "fig, ((ax, ax2),(ax3,ax4),(ax5,ax6)) = plt.subplots(3, 2, figsize=(7.5,7), tight_layout=False)\n",
    "\n",
    "plt.subplots_adjust(hspace=0)\n",
    "\n",
    "\n",
    "# Sex prediction\n",
    "sn.boxplot(data=sex_data_plot_head, x='param_clf',y='value',ax=ax, color='white',boxprops={'fill': None})\n",
    "sn.stripplot(data=sex_data_plot_head, x='param_clf',y='value',ax=ax,size=7, alpha=0.6, legend=False,linewidth=1,edgecolor='k',color='gainsboro',zorder=0)\n",
    "plt.setp(ax.lines, color='k')\n",
    "\n",
    "for l, box in enumerate(ax.patches):\n",
    "    box.set_edgecolor('black')\n",
    "\n",
    "ax.axhline(0.5, color='r', ls='--')\n",
    "ax.set_ylim(0.4,1)\n",
    "\n",
    "\n",
    "sn.boxplot(data=sex_data_plot_thorax, x='param_clf',y='value',ax=ax2, color='white',boxprops={'fill': None})\n",
    "sn.stripplot(data=sex_data_plot_thorax, x='param_clf',y='value',ax=ax2,size=7, alpha=0.6, legend=False,linewidth=1,edgecolor='k',color='gainsboro',zorder=0)\n",
    "plt.setp(ax2.lines, color='k')\n",
    "\n",
    "for l, box in enumerate(ax2.patches):\n",
    "    box.set_edgecolor('black')\n",
    "\n",
    "ax2.axhline(0.5, color='r', ls='--')\n",
    "ax2.set_ylim(0.4,1)\n",
    "\n",
    "\n",
    "\n",
    "\n",
    "\n",
    "# Male age prediction\n",
    "sn.boxplot(data=males_data_plot_thorax, x='param_clf',y='value',ax=ax4, color='white',boxprops={'fill': None})\n",
    "sn.stripplot(data=males_data_plot_thorax, x='param_clf',y='value',ax=ax4,size=7, alpha=0.6, legend=False,linewidth=1,edgecolor='k',color='gainsboro',zorder=0)\n",
    "plt.setp(ax4.lines, color='k')\n",
    "for l, box in enumerate(ax4.patches):\n",
    "    box.set_edgecolor('black')\n",
    "\n",
    "ax4.axhline(0.5, color='r', ls='--')\n",
    "ax4.set_ylim(0.4,1)\n",
    "\n",
    "\n",
    "sn.boxplot(data=males_data_plot_head, x='param_clf',y='value',ax=ax3, color='white',boxprops={'fill': None})\n",
    "sn.stripplot(data=males_data_plot_head, x='param_clf',y='value',ax=ax3,size=7, alpha=0.6, legend=False,linewidth=1,edgecolor='k',color='gainsboro',zorder=0)\n",
    "plt.setp(ax3.lines, color='k')\n",
    "for l, box in enumerate(ax3.patches):\n",
    "    box.set_edgecolor('black')\n",
    "\n",
    "ax.axhline(0.5, color='r', ls='--')\n",
    "ax.set_ylim(0.4,1)\n",
    "\n",
    "\n",
    "\n",
    "\n",
    "# female age prediction\n",
    "sn.boxplot(data=females_data_plot_head, x='param_clf',y='value',ax=ax5, color='white',boxprops={'fill': None})\n",
    "sn.stripplot(data=females_data_plot_head, x='param_clf',y='value',ax=ax5,size=7, alpha=0.6, legend=False,linewidth=1,edgecolor='k',color='gainsboro',zorder=0)\n",
    "plt.setp(ax5.lines, color='k')\n",
    "for l, box in enumerate(ax5.patches):\n",
    "    box.set_edgecolor('black')\n",
    "\n",
    "ax5.axhline(0.3, color='r', ls='--')\n",
    "ax5.set_ylim(0.2,1)\n",
    "\n",
    "sn.boxplot(data=females_data_plot_thorax, x='param_clf',y='value',ax=ax6, color='white',boxprops={'fill': None})\n",
    "sn.stripplot(data=females_data_plot_thorax, x='param_clf',y='value',ax=ax6,size=7,linewidth=1,edgecolor='k',color='gainsboro',zorder=0, alpha=0.6, legend=False)\n",
    "plt.setp(ax6.lines, color='k')\n",
    "for l, box in enumerate(ax6.patches):\n",
    "    box.set_edgecolor('black')\n",
    "\n",
    "ax6.axhline(0.3, color='r', ls='--')\n",
    "ax6.set_ylim(0.2,1)\n",
    "\n",
    "\n",
    "\n",
    "\n",
    "\n",
    "\n",
    "# Overall aesthetics and annotations\n",
    "\n",
    "plots1 = [ax2,ax4,ax6]\n",
    "\n",
    "plots_g = [ax,ax2,ax3,ax4,ax5,ax6]\n",
    "abcd = [\"A\", \"B\", \"C\", \"D\", \"E\", \"F\"]\n",
    "\n",
    "for i,a in zip(plots_g,abcd):\n",
    "    i.set_title(a, fontweight='bold',loc=\"left\")\n",
    "\n",
    "\n",
    "\n",
    "plots2 = [ax,ax3]\n",
    "for i in plots2:\n",
    "    i.axhline(0.5, color='r', ls='--')\n",
    "    i.set_ylim(0.4,1)\n",
    "    i.set_xlabel(\"Models\")\n",
    "    i.set_ylabel(\"Accuracy\")\n",
    "\n",
    "ax5.axhline(0.3, color='r', ls='--')\n",
    "ax5.set_ylim(0.2,1)\n",
    "ax5.set_xlabel(\"Models\")\n",
    "ax5.set_ylabel(\"Accuracy\")\n",
    "\n",
    "fig.text(x=0.25,y=1,s=\"Head\",fontweight='bold')\n",
    "fig.text(x=0.75,y=1,s=\"Thorax\",fontweight='bold')\n",
    "fig.text(x=0.5,y=0.98,s=\"Sex prediction\",ha='center',fontweight='bold')\n",
    "fig.text(x=0.5,y=0.66,s=\"Male age prediction\",ha='center',fontweight='bold')\n",
    "fig.text(x=0.5,y=0.34,s=\"Female age prediction\",ha='center',fontweight='bold')\n",
    "\n",
    "\n",
    "\n",
    "#plt.savefig(\"../results/plots/FigS2.tiff\", dpi=300, bbox_inches='tight')"
   ]
  },
  {
   "cell_type": "code",
   "execution_count": 32,
   "metadata": {},
   "outputs": [],
   "source": [
    "variable_importance_sex_head = variable_importance_df(wavenumbers, loaded_model_sex_head)\n",
    "variable_importance_males_head = variable_importance_df(wavenumbers,loaded_model_males_head)\n",
    "variable_importance_females_head = variable_importance_df(wavenumbers, loaded_model_females_head)"
   ]
  },
  {
   "cell_type": "code",
   "execution_count": 33,
   "metadata": {},
   "outputs": [],
   "source": [
    "variable_importance_sex_thorax = variable_importance_df(wavenumbers, loaded_model_sex_thorax)\n",
    "variable_importance_males_thorax = variable_importance_df(wavenumbers,loaded_model_males_thorax)\n",
    "variable_importance_females_thorax = variable_importance_df(wavenumbers, loaded_model_females_thorax)"
   ]
  },
  {
   "cell_type": "code",
   "execution_count": 46,
   "metadata": {},
   "outputs": [],
   "source": [
    "wavenumbers_tsetse_important = {'sex_id_head':variable_importance_sex_head['Wavenumbers'].to_numpy(),\n",
    "          'sex_id_thorax': variable_importance_sex_thorax['Wavenumbers'].to_numpy(), \n",
    "          'age_males_head': variable_importance_males_head['Wavenumbers'].to_numpy(), \n",
    "          'age_males_thorax': variable_importance_males_thorax['Wavenumbers'].to_numpy(),\n",
    "          'age_females_head': variable_importance_females_head[\"Wavenumbers\"].to_numpy(),\n",
    "          'age_females_thorax': variable_importance_females_thorax['Wavenumbers'].to_numpy()}\n",
    "\n",
    "\n"
   ]
  },
  {
   "cell_type": "code",
   "execution_count": 58,
   "metadata": {},
   "outputs": [],
   "source": [
    "df_wavenumbers_tsetse_important = pd.DataFrame(wavenumbers_tsetse_important)\n",
    "df_wavenumbers_tsetse_important_sort = pd.DataFrame(np.sort(df_wavenumbers_tsetse_important.values, axis=0), index = df_wavenumbers_tsetse_important.index, columns=df_wavenumbers_tsetse_important.columns)\n",
    "\n",
    "df_wavenumbers_tsetse_important_sort.to_csv(\"/Users/mauropazmino/Documents/University/TseTse_Project/Pilot/tsetse_MIRS/results/tables/informative_region_results/wvn_import_sort.csv\")\n",
    "\n"
   ]
  },
  {
   "cell_type": "code",
   "execution_count": 140,
   "metadata": {},
   "outputs": [
    {
     "data": {
      "text/plain": [
       "Text(0.8, 1, 'Thorax')"
      ]
     },
     "execution_count": 140,
     "metadata": {},
     "output_type": "execute_result"
    },
    {
     "data": {
      "image/png": "[encoded data removed]",
      "text/plain": [
       "<Figure size 700x700 with 12 Axes>"
      ]
     },
     "metadata": {},
     "output_type": "display_data"
    }
   ],
   "source": [
    "rc={'font.size': 12,\n",
    "    \"font.family\":\"Arial\",\n",
    "    \"axes.labelsize\":12,\n",
    "    'xtick.labelsize':12,\n",
    "    'ytick.labelsize':12}\n",
    "plt.rcdefaults()\n",
    "sn.set_palette('bright', color_codes=True)\n",
    "#rcParams.update({'font.size': 40,\"font.family\":\"arial\"})\n",
    "sn.set_style(\"ticks\")\n",
    "sn.set_context('notebook',rc=rc )\n",
    "\n",
    "fig, ((ax, ax2),(ax3,ax4),(ax5,ax6)) = plt.subplots(3,2, figsize=(7,7), tight_layout=False)\n",
    "\n",
    "\n",
    "# Sex\n",
    "disp = ConfusionMatrixDisplay.from_predictions(y_hd_test,y_sex_head_pred,display_labels=loaded_model_sex_head.classes_, normalize='true', values_format='.2f', cmap=plt.cm.Reds, ax=ax, im_kw={'vmin':0, 'vmax':1})\n",
    "\n",
    "\n",
    "disp = ConfusionMatrixDisplay.from_predictions(y_th_test,y_sex_thorax_pred,display_labels=loaded_model_sex_thorax.classes_, normalize='true', values_format='.2f', cmap=plt.cm.Reds, ax=ax2, im_kw={'vmin':0, 'vmax':1})\n",
    "\n",
    "\n",
    "# Age males\n",
    "\n",
    "disp = ConfusionMatrixDisplay.from_predictions(ym_hd_test,y_male_head_pred,display_labels=loaded_model_males_head.classes_, normalize='true', values_format='.2f', cmap=plt.cm.Reds, ax=ax3, im_kw={'vmin':0, 'vmax':1})\n",
    "\n",
    "disp = ConfusionMatrixDisplay.from_predictions(ym_th_test,y_male_thorax_pred,display_labels=loaded_model_males_thorax.classes_, normalize='true', values_format='.2f', cmap=plt.cm.Reds, ax=ax4, im_kw={'vmin':0, 'vmax':1})\n",
    "\n",
    "\n",
    "# Age females\n",
    "\n",
    "disp = ConfusionMatrixDisplay.from_predictions(yf_hd_test,y_female_head_pred,display_labels=loaded_model_females_head.classes_, normalize='true', values_format='.2f', cmap=plt.cm.Reds, ax=ax5, im_kw={'vmin':0, 'vmax':1})\n",
    "\n",
    "disp = ConfusionMatrixDisplay.from_predictions(yf_th_test,y_female_thorax_pred,display_labels=loaded_model_females_thorax.classes_, normalize='true', values_format='.2f', cmap=plt.cm.Reds, ax=ax6, im_kw={'vmin':0, 'vmax':1})\n",
    "\n",
    "plots_g = [ax,ax2,ax3,ax4,ax5,ax6]\n",
    "abcd = [\"A\", \"B\", \"C\", \"D\", \"E\", \"F\"]\n",
    "\n",
    "for i,a in zip(plots_g,abcd):\n",
    "    i.set_title(a, fontweight='bold',loc=\"left\")\n",
    "\n",
    "fig.text(0.3,1,s=\"Head\",fontweight='bold', ha='center')\n",
    "fig.text(0.8,1,s=\"Thorax\", fontweight='bold', ha='center')\n",
    "\n",
    "#plt.savefig(\"../results/plots/Fig6.tiff\", dpi=300,bbox_inches='tight')\n"
   ]
  },
  {
   "cell_type": "code",
   "execution_count": 190,
   "metadata": {},
   "outputs": [],
   "source": [
    "restricted_accuracy_training = {\n",
    "    'sex_pred_mean': [sex_data_plot_head[sex_data_plot_head['param_clf'] == 'RF']['value'].mean(),\n",
    "                      sex_data_plot_thorax[sex_data_plot_thorax['param_clf'] == 'RF']['value'].mean()],\n",
    "    'sex_pred_std': [sex_data_plot_head[sex_data_plot_head['param_clf'] == 'RF']['value'].std(), sex_data_plot_thorax[sex_data_plot_thorax['param_clf'] == 'RF']['value'].std()],\n",
    "    \n",
    "    'male_pred_mean':[males_data_plot_head[males_data_plot_head['param_clf'] == 'RF']['value'].mean(),males_data_plot_thorax[males_data_plot_thorax['param_clf'] == 'RF']['value'].mean()],\n",
    "                       'male_pred_std':[males_data_plot_head[males_data_plot_head['param_clf'] == 'RF']['value'].std(),males_data_plot_thorax[males_data_plot_thorax['param_clf'] == 'RF']['value'].std()],\n",
    "                       'fem_pred_mean':[females_data_plot_head[females_data_plot_head['param_clf']=='RF']['value'].mean(),females_data_plot_thorax[females_data_plot_thorax['param_clf']=='RF']['value'].mean()],'fem_pred_std':[females_data_plot_head[females_data_plot_head['param_clf']=='RF']['value'].std(),females_data_plot_thorax[females_data_plot_thorax['param_clf']=='RF']['value'].std()]}"
   ]
  },
  {
   "cell_type": "code",
   "execution_count": 200,
   "metadata": {},
   "outputs": [],
   "source": [
    "restricted_accuracy_test = {\n",
    "    'sex':[accuracy_score(y_hd_test,y_sex_head_pred),\n",
    "                accuracy_score(y_th_test,y_sex_thorax_pred)],\n",
    "    'males': [accuracy_score(ym_hd_test,y_male_head_pred),\n",
    "                   accuracy_score(ym_th_test,y_male_thorax_pred)],\n",
    "    'females': [accuracy_score(yf_hd_test,y_female_head_pred),\n",
    "                accuracy_score(yf_th_test,y_female_thorax_pred)]\n",
    "}"
   ]
  },
  {
   "cell_type": "code",
   "execution_count": 203,
   "metadata": {},
   "outputs": [],
   "source": [
    "restricted_acc_test_df = pd.DataFrame.from_dict(restricted_accuracy_test).T"
   ]
  },
  {
   "cell_type": "code",
   "execution_count": 204,
   "metadata": {},
   "outputs": [
    {
     "data": {
      "text/html": [
       "<div>\n",
       "<style scoped>\n",
       "    .dataframe tbody tr th:only-of-type {\n",
       "        vertical-align: middle;\n",
       "    }\n",
       "\n",
       "    .dataframe tbody tr th {\n",
       "        vertical-align: top;\n",
       "    }\n",
       "\n",
       "    .dataframe thead th {\n",
       "        text-align: right;\n",
       "    }\n",
       "</style>\n",
       "<table border=\"1\" class=\"dataframe\">\n",
       "  <thead>\n",
       "    <tr style=\"text-align: right;\">\n",
       "      <th></th>\n",
       "      <th>Head</th>\n",
       "      <th>Thorax</th>\n",
       "    </tr>\n",
       "  </thead>\n",
       "  <tbody>\n",
       "    <tr>\n",
       "      <th>sex</th>\n",
       "      <td>0.950000</td>\n",
       "      <td>0.825000</td>\n",
       "    </tr>\n",
       "    <tr>\n",
       "      <th>males</th>\n",
       "      <td>0.729730</td>\n",
       "      <td>0.702703</td>\n",
       "    </tr>\n",
       "    <tr>\n",
       "      <th>females</th>\n",
       "      <td>0.782609</td>\n",
       "      <td>0.742857</td>\n",
       "    </tr>\n",
       "  </tbody>\n",
       "</table>\n",
       "</div>"
      ],
      "text/plain": [
       "             Head    Thorax\n",
       "sex      0.950000  0.825000\n",
       "males    0.729730  0.702703\n",
       "females  0.782609  0.742857"
      ]
     },
     "execution_count": 204,
     "metadata": {},
     "output_type": "execute_result"
    }
   ],
   "source": [
    "restricted_acc_test_df.rename(columns={0:'Head', 1:'Thorax'}, inplace=True)"
   ]
  },
  {
   "cell_type": "code",
   "execution_count": 226,
   "metadata": {},
   "outputs": [
    {
     "data": {
      "text/html": [
       "<div>\n",
       "<style scoped>\n",
       "    .dataframe tbody tr th:only-of-type {\n",
       "        vertical-align: middle;\n",
       "    }\n",
       "\n",
       "    .dataframe tbody tr th {\n",
       "        vertical-align: top;\n",
       "    }\n",
       "\n",
       "    .dataframe thead th {\n",
       "        text-align: right;\n",
       "    }\n",
       "</style>\n",
       "<table border=\"1\" class=\"dataframe\">\n",
       "  <thead>\n",
       "    <tr style=\"text-align: right;\">\n",
       "      <th></th>\n",
       "      <th></th>\n",
       "      <th>Accuracy (train set)</th>\n",
       "      <th>std</th>\n",
       "      <th>Accuracy (test set)</th>\n",
       "    </tr>\n",
       "  </thead>\n",
       "  <tbody>\n",
       "    <tr>\n",
       "      <th rowspan=\"2\" valign=\"top\">Sex</th>\n",
       "      <th>head</th>\n",
       "      <td>0.931250</td>\n",
       "      <td>0.031423</td>\n",
       "      <td>0.950000</td>\n",
       "    </tr>\n",
       "    <tr>\n",
       "      <th>thorax</th>\n",
       "      <td>0.896875</td>\n",
       "      <td>0.038415</td>\n",
       "      <td>0.825000</td>\n",
       "    </tr>\n",
       "    <tr>\n",
       "      <th rowspan=\"2\" valign=\"top\">Males</th>\n",
       "      <th>head</th>\n",
       "      <td>0.766667</td>\n",
       "      <td>0.081650</td>\n",
       "      <td>0.729730</td>\n",
       "    </tr>\n",
       "    <tr>\n",
       "      <th>thorax</th>\n",
       "      <td>0.843333</td>\n",
       "      <td>0.038650</td>\n",
       "      <td>0.702703</td>\n",
       "    </tr>\n",
       "    <tr>\n",
       "      <th rowspan=\"2\" valign=\"top\">Females</th>\n",
       "      <th>head</th>\n",
       "      <td>0.840000</td>\n",
       "      <td>0.045191</td>\n",
       "      <td>0.782609</td>\n",
       "    </tr>\n",
       "    <tr>\n",
       "      <th>thorax</th>\n",
       "      <td>0.783929</td>\n",
       "      <td>0.043293</td>\n",
       "      <td>0.742857</td>\n",
       "    </tr>\n",
       "  </tbody>\n",
       "</table>\n",
       "</div>"
      ],
      "text/plain": [
       "                Accuracy (train set)       std  Accuracy (test set)\n",
       "Sex     head                0.931250  0.031423             0.950000\n",
       "        thorax              0.896875  0.038415             0.825000\n",
       "Males   head                0.766667  0.081650             0.729730\n",
       "        thorax              0.843333  0.038650             0.702703\n",
       "Females head                0.840000  0.045191             0.782609\n",
       "        thorax              0.783929  0.043293             0.742857"
      ]
     },
     "execution_count": 226,
     "metadata": {},
     "output_type": "execute_result"
    }
   ],
   "source": [
    "arrays = [['Sex','Sex','Males','Males','Females','Females'],[\"head\", 'thorax',\"head\", 'thorax',\"head\", 'thorax']]\n",
    "\n",
    "df2 = pd.DataFrame([\n",
    "    [\n",
    "        sex_data_plot_head[sex_data_plot_head['param_clf'] == 'RF']['value'].mean(),\n",
    "        sex_data_plot_head[sex_data_plot_head['param_clf'] == 'RF']['value'].std(),\n",
    "        accuracy_score(y_hd_test,y_sex_head_pred)],\n",
    "    [\n",
    "        sex_data_plot_thorax[sex_data_plot_thorax['param_clf'] == 'RF']['value'].mean(),\n",
    "        sex_data_plot_thorax[sex_data_plot_thorax['param_clf'] == 'RF']['value'].std(),\n",
    "        accuracy_score(y_th_test,y_sex_thorax_pred)],\n",
    "    [\n",
    "        males_data_plot_head[males_data_plot_head['param_clf'] == 'RF']['value'].mean(), \n",
    "        males_data_plot_head[males_data_plot_head['param_clf'] == 'RF']['value'].std(), \n",
    "        accuracy_score(ym_hd_test,y_male_head_pred)],\n",
    "    [\n",
    "        males_data_plot_thorax[males_data_plot_thorax['param_clf'] == 'RF']['value'].mean(), \n",
    "        males_data_plot_thorax[males_data_plot_thorax['param_clf'] == 'RF']['value'].std(), accuracy_score(ym_th_test,y_male_thorax_pred)],\n",
    "    [\n",
    "        females_data_plot_head[females_data_plot_head['param_clf']=='RF']['value'].mean(),\n",
    "        females_data_plot_head[females_data_plot_head['param_clf']=='RF']['value'].std(),\n",
    "        accuracy_score(yf_hd_test,y_female_head_pred)],\n",
    "    [\n",
    "        females_data_plot_thorax[females_data_plot_thorax['param_clf']=='RF']['value'].mean(),\n",
    "        females_data_plot_thorax[females_data_plot_thorax['param_clf']=='RF']['value'].std(),\n",
    "        accuracy_score(yf_th_test,y_female_thorax_pred)]],\n",
    "                    columns=['Accuracy (train set)', 'std', 'Accuracy (test set)'], index=arrays)\n",
    "\n",
    "df2.to_csv(\"../results/tables/informative_region_results/table3.csv\")\n",
    "df2"
   ]
  },
  {
   "cell_type": "code",
   "execution_count": 191,
   "metadata": {},
   "outputs": [
    {
     "data": {
      "text/html": [
       "<div>\n",
       "<style scoped>\n",
       "    .dataframe tbody tr th:only-of-type {\n",
       "        vertical-align: middle;\n",
       "    }\n",
       "\n",
       "    .dataframe tbody tr th {\n",
       "        vertical-align: top;\n",
       "    }\n",
       "\n",
       "    .dataframe thead th {\n",
       "        text-align: right;\n",
       "    }\n",
       "</style>\n",
       "<table border=\"1\" class=\"dataframe\">\n",
       "  <thead>\n",
       "    <tr style=\"text-align: right;\">\n",
       "      <th></th>\n",
       "      <th>sex_pred_mean</th>\n",
       "      <th>sex_pred_std</th>\n",
       "      <th>male_pred_mean</th>\n",
       "      <th>male_pred_std</th>\n",
       "      <th>fem_pred_mean</th>\n",
       "      <th>fem_pred_std</th>\n",
       "    </tr>\n",
       "  </thead>\n",
       "  <tbody>\n",
       "    <tr>\n",
       "      <th>0</th>\n",
       "      <td>0.931250</td>\n",
       "      <td>0.031423</td>\n",
       "      <td>0.766667</td>\n",
       "      <td>0.08165</td>\n",
       "      <td>0.840000</td>\n",
       "      <td>0.045191</td>\n",
       "    </tr>\n",
       "    <tr>\n",
       "      <th>1</th>\n",
       "      <td>0.896875</td>\n",
       "      <td>0.038415</td>\n",
       "      <td>0.843333</td>\n",
       "      <td>0.03865</td>\n",
       "      <td>0.783929</td>\n",
       "      <td>0.043293</td>\n",
       "    </tr>\n",
       "  </tbody>\n",
       "</table>\n",
       "</div>"
      ],
      "text/plain": [
       "   sex_pred_mean  sex_pred_std  male_pred_mean  male_pred_std  fem_pred_mean  \\\n",
       "0       0.931250      0.031423        0.766667        0.08165       0.840000   \n",
       "1       0.896875      0.038415        0.843333        0.03865       0.783929   \n",
       "\n",
       "   fem_pred_std  \n",
       "0      0.045191  \n",
       "1      0.043293  "
      ]
     },
     "execution_count": 191,
     "metadata": {},
     "output_type": "execute_result"
    }
   ],
   "source": [
    "pd.DataFrame.from_dict(restricted_accuracy_training)"
   ]
  },
  {
   "cell_type": "code",
   "execution_count": null,
   "metadata": {},
   "outputs": [],
   "source": []
  }
 ],
 "metadata": {
  "kernelspec": {
   "display_name": ".tsetse_mirs",
   "language": "python",
   "name": "python3"
  },
  "language_info": {
   "codemirror_mode": {
    "name": "ipython",
    "version": 3
   },
   "file_extension": ".py",
   "mimetype": "text/x-python",
   "name": "python",
   "nbconvert_exporter": "python",
   "pygments_lexer": "ipython3",
   "version": "3.10.6"
  }
 },
 "nbformat": 4,
 "nbformat_minor": 2
}
